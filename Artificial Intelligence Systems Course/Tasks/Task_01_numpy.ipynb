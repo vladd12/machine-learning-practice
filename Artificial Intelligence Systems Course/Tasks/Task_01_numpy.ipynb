{
 "cells": [
  {
   "cell_type": "markdown",
   "metadata": {},
   "source": [
    "# Numpy"
   ]
  },
  {
   "cell_type": "markdown",
   "metadata": {},
   "source": [
    "Материалы:\n",
    "* Макрушин С.В. \"Лекция 1: Библиотека Numpy\"\n",
    "* https://numpy.org/doc/stable/user/index.html\n",
    "* https://numpy.org/doc/stable/reference/index.html"
   ]
  },
  {
   "cell_type": "markdown",
   "metadata": {},
   "source": [
    "## Задачи для совместного разбора"
   ]
  },
  {
   "cell_type": "markdown",
   "metadata": {},
   "source": [
    "1. Сгенерировать двухмерный массив `arr` размерности (4, 7), состоящий из случайных действительных чисел, равномерно распределенных в диапазоне от 0 до 20. Нормализовать значения массива с помощью преобразования вида  $𝑎𝑥+𝑏$  так, что после нормализации максимальный элемент масcива будет равен 1.0, минимальный 0.0"
   ]
  },
  {
   "cell_type": "code",
   "execution_count": 1,
   "metadata": {},
   "outputs": [
    {
     "data": {
      "text/plain": [
       "array([[13,  0, 16, 15, 16,  4,  0],\n",
       "       [ 6,  4, 11, 17,  4,  3, 17],\n",
       "       [13, 19,  6,  1,  8, 18,  5],\n",
       "       [ 0,  6, 17, 12,  2, 14,  0]])"
      ]
     },
     "execution_count": 1,
     "metadata": {},
     "output_type": "execute_result"
    }
   ],
   "source": [
    "import numpy as np\n",
    "\n",
    "a = np.random.randint(0,20,size=(4,7))\n",
    "a"
   ]
  },
  {
   "cell_type": "code",
   "execution_count": 2,
   "metadata": {},
   "outputs": [
    {
     "data": {
      "text/plain": [
       "array([[ 7.79432542,  5.28288419,  3.39883119,  4.78948623,  6.38529524,\n",
       "         5.85178988,  4.16408766],\n",
       "       [ 9.79814383,  0.16184697,  4.20490815, 17.03746076,  0.5608315 ,\n",
       "         6.27368809, 18.13063635],\n",
       "       [10.04671942, 15.60790423,  4.56632572,  3.36204221,  0.54787138,\n",
       "         2.20957082,  3.13576912],\n",
       "       [ 2.37256427, 18.90456349, 18.08418961, 16.14434127,  5.94353243,\n",
       "         0.21963504, 14.1431402 ]])"
      ]
     },
     "execution_count": 2,
     "metadata": {},
     "output_type": "execute_result"
    }
   ],
   "source": [
    "a = np.random.uniform(0,20,size=(4, 7))\n",
    "a"
   ]
  },
  {
   "cell_type": "code",
   "execution_count": 3,
   "metadata": {},
   "outputs": [
    {
     "name": "stdout",
     "output_type": "stream",
     "text": [
      "max=  18.904563490930673 mib=  0.1618469690344848\n"
     ]
    }
   ],
   "source": [
    "minn = a.min()\n",
    "maxx = a.max()\n",
    "print('max= ', maxx, 'mib= ', minn)"
   ]
  },
  {
   "cell_type": "code",
   "execution_count": 4,
   "metadata": {},
   "outputs": [
    {
     "data": {
      "text/plain": [
       "array([[0.4072237 , 0.27322812, 0.17270625, 0.24690334, 0.33204623,\n",
       "        0.30358155, 0.21353579],\n",
       "       [0.51413555, 0.        , 0.21571372, 0.90038249, 0.02128744,\n",
       "        0.32609153, 0.95870785],\n",
       "       [0.52739807, 0.82410985, 0.23499682, 0.17074341, 0.02059597,\n",
       "        0.10925438, 0.15867082],\n",
       "       [0.11795074, 1.        , 0.95622972, 0.85273094, 0.30847639,\n",
       "        0.00308323, 0.74595874]])"
      ]
     },
     "execution_count": 4,
     "metadata": {},
     "output_type": "execute_result"
    }
   ],
   "source": [
    "a_new = (a - minn) / (maxx - minn)\n",
    "a_new"
   ]
  },
  {
   "cell_type": "markdown",
   "metadata": {},
   "source": [
    "2. Создать матрицу 8 на 10 из случайных целых (используя модуль `numpy.random`) чисел из диапозона от 0 до 10 и найти в ней строку (ее индекс и вывести саму строку), в которой сумма значений минимальна."
   ]
  },
  {
   "cell_type": "code",
   "execution_count": 5,
   "metadata": {},
   "outputs": [],
   "source": [
    "b = np.random.randint(0,10,size=(8,10))\n"
   ]
  },
  {
   "cell_type": "code",
   "execution_count": 6,
   "metadata": {},
   "outputs": [
    {
     "name": "stdout",
     "output_type": "stream",
     "text": [
      "[28 44 37 36 42 27 43 36 26 31]\n",
      "8\n"
     ]
    }
   ],
   "source": [
    "b.sum(axis=0).argmin()\n",
    "print(b.sum(axis=0))\n",
    "print(b.sum(axis=0).argmin())"
   ]
  },
  {
   "cell_type": "markdown",
   "metadata": {},
   "source": [
    "3. Найти евклидово расстояние между двумя одномерными векторами одинаковой размерности."
   ]
  },
  {
   "cell_type": "code",
   "execution_count": 7,
   "metadata": {},
   "outputs": [
    {
     "name": "stdout",
     "output_type": "stream",
     "text": [
      "[3 3 3]\n",
      "[9 9 9]\n",
      "27\n",
      "5.196152422706632\n",
      "d2=  5.196152422706632\n"
     ]
    }
   ],
   "source": [
    "a= np.array([5,5,5])\n",
    "b=np.array([2,2,2])\n",
    "\n",
    "\n",
    "r=(a-b)\n",
    "print(r)\n",
    "r2=(a-b)**2\n",
    "print(r2)\n",
    "sum2=r2.sum()\n",
    "print(sum2)\n",
    "d= sum2**.5\n",
    "print(d)\n",
    "\n",
    "d2=(((a-b)**2).sum())**0.5\n",
    "print('d2= ',d2)"
   ]
  },
  {
   "cell_type": "markdown",
   "metadata": {},
   "source": [
    "4. Решить матричное уравнение `A*X*B=-C` - найти матрицу `X`. Где `A = [[-1, 2, 4], [-3, 1, 2], [-3, 0, 1]]`, `B=[[3, -1], [2, 1]]`, `C=[[7, 21], [11, 8], [8, 4]]`."
   ]
  },
  {
   "cell_type": "markdown",
   "metadata": {},
   "source": [
    "## Лабораторная работа №1"
   ]
  },
  {
   "cell_type": "markdown",
   "metadata": {},
   "source": [
    "Замечание: при решении данных задач не подразумевается использования циклов или генераторов Python, если в задании не сказано обратного. Решение должно опираться на использования функционала библиотеки `numpy`."
   ]
  },
  {
   "cell_type": "markdown",
   "metadata": {},
   "source": [
    "1. Файл `minutes_n_ingredients.csv` содержит информацию об идентификаторе рецепта, времени его выполнения в минутах и количестве необходимых ингредиентов. Считайте данные из этого файла в виде массива `numpy` типа `int32`, используя `np.loadtxt`. Выведите на экран первые 5 строк массива."
   ]
  },
  {
   "cell_type": "code",
   "execution_count": 9,
   "metadata": {
    "scrolled": true
   },
   "outputs": [
    {
     "name": "stdout",
     "output_type": "stream",
     "text": [
      "[[127244     60     16]\n",
      " [ 23891     25      7]\n",
      " [ 94746     10      6]\n",
      " [ 67660      5      6]\n",
      " [157911     60     14]]\n"
     ]
    }
   ],
   "source": [
    "dataset = np.loadtxt(\"data/minutes_n_ingredients.csv\", dtype=int, delimiter=',', skiprows=1)\n",
    "ids = dataset[:,0]\n",
    "time = dataset[:, 1]\n",
    "ingredients = dataset[:, 2]\n",
    "print(dataset[:5])"
   ]
  },
  {
   "cell_type": "code",
   "execution_count": 10,
   "metadata": {},
   "outputs": [
    {
     "data": {
      "text/html": [
       "<div>\n",
       "<style scoped>\n",
       "    .dataframe tbody tr th:only-of-type {\n",
       "        vertical-align: middle;\n",
       "    }\n",
       "\n",
       "    .dataframe tbody tr th {\n",
       "        vertical-align: top;\n",
       "    }\n",
       "\n",
       "    .dataframe thead th {\n",
       "        text-align: right;\n",
       "    }\n",
       "</style>\n",
       "<table border=\"1\" class=\"dataframe\">\n",
       "  <thead>\n",
       "    <tr style=\"text-align: right;\">\n",
       "      <th></th>\n",
       "      <th>id</th>\n",
       "      <th>minutes</th>\n",
       "      <th>n_ingredients</th>\n",
       "    </tr>\n",
       "  </thead>\n",
       "  <tbody>\n",
       "    <tr>\n",
       "      <th>0</th>\n",
       "      <td>127244</td>\n",
       "      <td>60</td>\n",
       "      <td>16</td>\n",
       "    </tr>\n",
       "    <tr>\n",
       "      <th>1</th>\n",
       "      <td>23891</td>\n",
       "      <td>25</td>\n",
       "      <td>7</td>\n",
       "    </tr>\n",
       "    <tr>\n",
       "      <th>2</th>\n",
       "      <td>94746</td>\n",
       "      <td>10</td>\n",
       "      <td>6</td>\n",
       "    </tr>\n",
       "    <tr>\n",
       "      <th>3</th>\n",
       "      <td>67660</td>\n",
       "      <td>5</td>\n",
       "      <td>6</td>\n",
       "    </tr>\n",
       "    <tr>\n",
       "      <th>4</th>\n",
       "      <td>157911</td>\n",
       "      <td>60</td>\n",
       "      <td>14</td>\n",
       "    </tr>\n",
       "  </tbody>\n",
       "</table>\n",
       "</div>"
      ],
      "text/plain": [
       "       id  minutes  n_ingredients\n",
       "0  127244       60             16\n",
       "1   23891       25              7\n",
       "2   94746       10              6\n",
       "3   67660        5              6\n",
       "4  157911       60             14"
      ]
     },
     "execution_count": 10,
     "metadata": {},
     "output_type": "execute_result"
    }
   ],
   "source": [
    "import pandas as pd\n",
    "\n",
    "pd_dataset = pd.read_csv(\"data/minutes_n_ingredients.csv\")\n",
    "pd_dataset[:5]"
   ]
  },
  {
   "cell_type": "markdown",
   "metadata": {},
   "source": [
    "2. Вычислите среднее значение, минимум, максимум и медиану по каждому из столбцов, кроме первого."
   ]
  },
  {
   "cell_type": "code",
   "execution_count": 11,
   "metadata": {},
   "outputs": [
    {
     "name": "stdout",
     "output_type": "stream",
     "text": [
      "Среднее время:  21601.00169\n",
      "Минимальное время:  0\n",
      "Максимальное время:  2147483647\n",
      "Медиана для времени:  40.0 \n",
      "\n"
     ]
    }
   ],
   "source": [
    "print(\"Среднее время: \", time.mean())\n",
    "print(\"Минимальное время: \", time.min())\n",
    "print(\"Максимальное время: \", time.max())\n",
    "print(\"Медиана для времени: \", np.median(time), \"\\n\")"
   ]
  },
  {
   "cell_type": "code",
   "execution_count": 12,
   "metadata": {},
   "outputs": [
    {
     "name": "stdout",
     "output_type": "stream",
     "text": [
      "Среднее количество ингредиентов:  9.05528\n",
      "Минимальное количество ингредиентов:  1\n",
      "Максимальное количество ингредиентов:  39\n",
      "Медиана для количества ингредиентов:  9.0\n"
     ]
    }
   ],
   "source": [
    "print(\"Среднее количество ингредиентов: \", ingredients.mean())\n",
    "print(\"Минимальное количество ингредиентов: \", ingredients.min())\n",
    "print(\"Максимальное количество ингредиентов: \", ingredients.max())\n",
    "print(\"Медиана для количества ингредиентов: \", np.median(ingredients))"
   ]
  },
  {
   "cell_type": "markdown",
   "metadata": {},
   "source": [
    "3. Ограничьте сверху значения продолжительности выполнения рецепта значением квантиля $q_{0.75}$. "
   ]
  },
  {
   "cell_type": "code",
   "execution_count": 13,
   "metadata": {},
   "outputs": [
    {
     "name": "stdout",
     "output_type": "stream",
     "text": [
      "Ограничение продолжительности выполнения рецепта со значением квантиля 0,75:  65.0\n"
     ]
    }
   ],
   "source": [
    "quant = np.quantile(dataset, 0.75, axis=0)\n",
    "print(\"Ограничение продолжительности выполнения рецепта со значением квантиля 0,75: \", quant[1])"
   ]
  },
  {
   "cell_type": "markdown",
   "metadata": {},
   "source": [
    "4. Посчитайте, для скольких рецептов указана продолжительность, равная нулю. Замените для таких строк значение в данном столбце на 1."
   ]
  },
  {
   "cell_type": "code",
   "execution_count": 14,
   "metadata": {},
   "outputs": [
    {
     "name": "stdout",
     "output_type": "stream",
     "text": [
      "Количество рецептов с нулевой продолжительностью:  479\n"
     ]
    }
   ],
   "source": [
    "zero = np.count_nonzero(dataset==0, axis=0)\n",
    "print(\"Количество рецептов с нулевой продолжительностью: \", zero[1])"
   ]
  },
  {
   "cell_type": "code",
   "execution_count": 15,
   "metadata": {},
   "outputs": [
    {
     "name": "stdout",
     "output_type": "stream",
     "text": [
      "[[377945     30     14]\n",
      " [339060     95      8]\n",
      " [189545     60      8]\n",
      " [279489     15     12]\n",
      " [231807     50      8]\n",
      " [  2778      0     11]\n",
      " [354788     30      9]\n",
      " [145282     50     12]\n",
      " [ 21006     45      9]\n",
      " [100662    210     10]\n",
      " [420725      5      3]\n",
      " [220747     75      8]\n",
      " [273128     25     17]\n",
      " [147074     95     15]\n",
      " [382708     25     13]\n",
      " [  4747      0      9]\n",
      " [351058     40      4]\n",
      " [ 44120     17      5]\n",
      " [138453     30      7]\n",
      " [227056     30      4]\n",
      " [ 60756     15      5]\n",
      " [ 52088     60      5]\n",
      " [128811     15      4]\n",
      " [360109     30     10]\n",
      " [371794     35      8]\n",
      " [ 43407     35      7]\n",
      " [287943     85     15]\n",
      " [498432     65     15]\n",
      " [370915      5      4]\n",
      " [ 81993    140     14]] \n",
      "\n",
      "[[377945     30     14]\n",
      " [339060     95      8]\n",
      " [189545     60      8]\n",
      " [279489     15     12]\n",
      " [231807     50      8]\n",
      " [  2778      0     11]\n",
      " [354788     30      9]\n",
      " [145282     50     12]\n",
      " [ 21006     45      9]\n",
      " [100662    210     10]\n",
      " [420725      5      3]\n",
      " [220747     75      8]\n",
      " [273128     25     17]\n",
      " [147074     95     15]\n",
      " [382708     25     13]\n",
      " [  4747      0      9]\n",
      " [351058     40      4]\n",
      " [ 44120     17      5]\n",
      " [138453     30      7]\n",
      " [227056     30      4]\n",
      " [ 60756     15      5]\n",
      " [ 52088     60      5]\n",
      " [128811     15      4]\n",
      " [360109     30     10]\n",
      " [371794     35      8]\n",
      " [ 43407     35      7]\n",
      " [287943     85     15]\n",
      " [498432     65     15]\n",
      " [370915      5      4]\n",
      " [ 81993    140     14]]\n"
     ]
    }
   ],
   "source": [
    "print(dataset[-30:], \"\\n\")\n",
    "array1 = np.where(dataset != 0, dataset, 1)\n",
    "print(dataset[-30:])"
   ]
  },
  {
   "cell_type": "markdown",
   "metadata": {},
   "source": [
    "5. Посчитайте, сколько уникальных рецептов находится в датасете."
   ]
  },
  {
   "cell_type": "code",
   "execution_count": 16,
   "metadata": {},
   "outputs": [
    {
     "name": "stdout",
     "output_type": "stream",
     "text": [
      "Количество уникальных рецептов:  100000\n"
     ]
    }
   ],
   "source": [
    "unique = np.unique(ids)\n",
    "print(\"Количество уникальных рецептов: \", len(unique))"
   ]
  },
  {
   "cell_type": "code",
   "execution_count": 17,
   "metadata": {},
   "outputs": [
    {
     "name": "stdout",
     "output_type": "stream",
     "text": [
      "Количество уникальных рецептов:  100000\n"
     ]
    }
   ],
   "source": [
    "unique = np.unique(dataset, return_counts = True, axis=0)\n",
    "print(\"Количество уникальных рецептов: \", len(unique[0]))"
   ]
  },
  {
   "cell_type": "markdown",
   "metadata": {},
   "source": [
    "6. Сколько и каких различных значений кол-ва ингредиентов присутвует в рецептах из датасета?"
   ]
  },
  {
   "cell_type": "code",
   "execution_count": 18,
   "metadata": {},
   "outputs": [
    {
     "name": "stdout",
     "output_type": "stream",
     "text": [
      "Количество уникальных ингредиентов:  37\n",
      "Значения уникальных ингредиентов:  [ 1  2  3  4  5  6  7  8  9 10 11 12 13 14 15 16 17 18 19 20 21 22 23 24\n",
      " 25 26 27 28 29 30 31 32 33 34 35 37 39]\n"
     ]
    }
   ],
   "source": [
    "unique_ingr = np.unique(ingredients)\n",
    "print(\"Количество уникальных ингредиентов: \", len(unique_ingr))\n",
    "print(\"Значения уникальных ингредиентов: \", unique_ingr)"
   ]
  },
  {
   "cell_type": "markdown",
   "metadata": {},
   "source": [
    "7. Создайте версию массива, содержащую информацию только о рецептах, состоящих не более чем из 5 ингредиентов."
   ]
  },
  {
   "cell_type": "code",
   "execution_count": 19,
   "metadata": {},
   "outputs": [
    {
     "name": "stdout",
     "output_type": "stream",
     "text": [
      "[5 3 4 ... 5 4 4]\n",
      "17262\n"
     ]
    }
   ],
   "source": [
    "filtering = ingredients[ingredients <= 5]\n",
    "print(filtering)\n",
    "print(filtering.size)"
   ]
  },
  {
   "cell_type": "markdown",
   "metadata": {},
   "source": [
    "8. Для каждого рецепта посчитайте, сколько в среднем ингредиентов приходится на одну минуту рецепта. Найдите максимальное значение этой величины для всего датасета"
   ]
  },
  {
   "cell_type": "code",
   "execution_count": 20,
   "metadata": {},
   "outputs": [
    {
     "name": "stdout",
     "output_type": "stream",
     "text": [
      "Max ingredients per minute:  23.0\n"
     ]
    }
   ],
   "source": [
    "filtering = dataset[time > 0]\n",
    "ing_per_min = filtering[:, 2] / filtering[:,1]\n",
    "print(\"Max ingredients per minute: \", ing_per_min.max())"
   ]
  },
  {
   "cell_type": "markdown",
   "metadata": {},
   "source": [
    "9. Вычислите среднее количество ингредиентов для топ-100 рецептов с наибольшей продолжительностью"
   ]
  },
  {
   "cell_type": "code",
   "execution_count": 21,
   "metadata": {},
   "outputs": [
    {
     "name": "stdout",
     "output_type": "stream",
     "text": [
      "Среднее количество ингредиентов для топ-100 рецептов:  6.61\n"
     ]
    }
   ],
   "source": [
    "copy1 = np.copy(dataset)\n",
    "# Найдем порядок расположения второго столбца (в порядке возрастания)\n",
    "index = np.argsort(copy1[:,1])\n",
    "# Изменим порядок (так, чтобы он был в порядке убывания)\n",
    "rind = index[::-1]\n",
    "# Возвращаем матрицу со строками в указанном порядке\n",
    "copy1 = copy1[rind]\n",
    "copy1 = copy1[:100]\n",
    "avg = np.mean(copy1, axis=0)\n",
    "print(\"Среднее количество ингредиентов для топ-100 рецептов: \", avg[2])"
   ]
  },
  {
   "cell_type": "markdown",
   "metadata": {},
   "source": [
    "10. Выберите случайным образом и выведите информацию о 10 различных рецептах"
   ]
  },
  {
   "cell_type": "code",
   "execution_count": 22,
   "metadata": {},
   "outputs": [
    {
     "name": "stdout",
     "output_type": "stream",
     "text": [
      "10 случайных рецептов:\n",
      " [[204461     40     15]\n",
      " [380110     10      7]\n",
      " [ 58172     25      7]\n",
      " [235338     50      9]\n",
      " [394047     26      6]\n",
      " [ 52097     25      5]\n",
      " [ 85801     21      7]\n",
      " [429766     70     11]\n",
      " [176550     50      6]\n",
      " [ 89516     45     10]]\n"
     ]
    }
   ],
   "source": [
    "copy2 = np.copy(dataset)\n",
    "np.random.shuffle(copy2)\n",
    "rows = copy2[:10, :]\n",
    "print(\"10 случайных рецептов:\\n\", rows)"
   ]
  },
  {
   "cell_type": "markdown",
   "metadata": {},
   "source": [
    "11. Выведите процент рецептов, кол-во ингредиентов в которых меньше среднего."
   ]
  },
  {
   "cell_type": "code",
   "execution_count": 23,
   "metadata": {},
   "outputs": [
    {
     "name": "stdout",
     "output_type": "stream",
     "text": [
      "100000\n",
      "58802\n",
      "58.802 %\n"
     ]
    }
   ],
   "source": [
    "count_all = ingredients.size\n",
    "count_i = ingredients[ingredients < ingredients.mean()].size\n",
    "print(count_all)\n",
    "print(count_i)\n",
    "print((count_i/count_all) * 100, \"%\")"
   ]
  },
  {
   "cell_type": "markdown",
   "metadata": {},
   "source": [
    "12. Назовем \"простым\" такой рецепт, длительность выполнения которого не больше 20 минут и кол-во ингредиентов в котором не больше 5. Создайте версию датасета с дополнительным столбцом, значениями которого являются 1, если рецепт простой, и 0 в противном случае."
   ]
  },
  {
   "cell_type": "code",
   "execution_count": 24,
   "metadata": {},
   "outputs": [
    {
     "name": "stdout",
     "output_type": "stream",
     "text": [
      "[[127244     60     16      0]\n",
      " [ 23891     25      7      0]\n",
      " [ 94746     10      6      0]\n",
      " ...\n",
      " [498432     65     15      0]\n",
      " [370915      5      4      0]\n",
      " [ 81993    140     14      0]]\n"
     ]
    }
   ],
   "source": [
    "zeros = np.zeros((ids.size, 1), dtype=int)\n",
    "simple = np.append(dataset, zeros, axis=1)\n",
    "print(simple)"
   ]
  },
  {
   "cell_type": "code",
   "execution_count": 25,
   "metadata": {},
   "outputs": [
    {
     "name": "stdout",
     "output_type": "stream",
     "text": [
      "[[127244     60     16      0]\n",
      " [ 23891     25      7      0]\n",
      " [ 94746     10      6      0]\n",
      " [ 67660      5      6      0]\n",
      " [157911     60     14      0]\n",
      " [152828     40      7      0]\n",
      " [ 33941     18      9      0]\n",
      " [446597     15      5      1]\n",
      " [366174      7      9      0]\n",
      " [ 74205     20      7      0]\n",
      " [504666     65     20      0]\n",
      " [ 81006     12      7      0]\n",
      " [280968     85     11      0]\n",
      " [204134      5      3      1]\n",
      " [ 18593     35      7      0]]\n"
     ]
    }
   ],
   "source": [
    "a = simple[:, 1] <= 20\n",
    "b = simple[:,2] <= 5\n",
    "c = a & b\n",
    "inv = simple[:,3]\n",
    "inv[c] = 1;\n",
    "simple[:,3] = inv\n",
    "print(simple[:15])"
   ]
  },
  {
   "cell_type": "markdown",
   "metadata": {},
   "source": [
    "13. Выведите процент \"простых\" рецептов в датасете"
   ]
  },
  {
   "cell_type": "code",
   "execution_count": 26,
   "metadata": {},
   "outputs": [
    {
     "name": "stdout",
     "output_type": "stream",
     "text": [
      "9.552 %\n"
     ]
    }
   ],
   "source": [
    "column = simple[:,3]\n",
    "count_i = column[column == 1].size\n",
    "percent = (count_i/count_all) * 100\n",
    "print(percent, \"%\")"
   ]
  },
  {
   "cell_type": "code",
   "execution_count": null,
   "metadata": {},
   "outputs": [],
   "source": []
  }
 ],
 "metadata": {
  "kernelspec": {
   "display_name": "Python 3 (ipykernel)",
   "language": "python",
   "name": "python3"
  },
  "language_info": {
   "codemirror_mode": {
    "name": "ipython",
    "version": 3
   },
   "file_extension": ".py",
   "mimetype": "text/x-python",
   "name": "python",
   "nbconvert_exporter": "python",
   "pygments_lexer": "ipython3",
   "version": "3.9.10"
  }
 },
 "nbformat": 4,
 "nbformat_minor": 4
}
