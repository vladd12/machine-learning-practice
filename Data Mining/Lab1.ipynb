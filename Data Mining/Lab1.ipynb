{
 "cells": [
  {
   "cell_type": "markdown",
   "metadata": {
    "id": "GGl8FnDAMnBx"
   },
   "source": [
    "## О Jupyter notebook"
   ]
  },
  {
   "cell_type": "markdown",
   "metadata": {
    "collapsed": true,
    "id": "j1-IVL-AMnBz"
   },
   "source": [
    "Jupyter Notebook — это среда разработки, где сразу можно видеть результат выполнения кода и его отдельных фрагментов. Отличие от традиционной среды разработки в том, что код можно разбить на куски и выполнять их в произвольном порядке.\n",
    "Для запуска кода в ячейке можно воспользоваться меню сверху или нажать клавиши \"Enter+Shift\".\n",
    "\n",
    "Основная область применения ноутбуков — машинное обучение, нейросети, визуализация данных и статистика.\n",
    "\n",
    "Ещё такую среду часто используют для поэтапной разработки, когда нужно по шагам проверять работу разных фрагментов кода. Дело в том, что код в ноутбуках хранится в независимых ячейках и его можно запускать в любом порядке или поодиночке. Это позволяет быстро экспериментировать с алгоритмами и находить оптимальное решение.\n",
    "\n",
    "Также jupyter-ноутбуки используются при обучении программированию на Python, чтобы писать код и сразу видеть результат его работы.\n",
    "\n",
    "Есть два основных типа ячеек, которые мы рассмотрим:\n",
    "\n",
    "- Ячейка кода содержит код, который должен быть выполнен в ядре, и отображает его вывод ниже.\n",
    "- Ячейка Markdown содержит текст, отформатированный с использованием Markdown, и отображает его вывод на месте при запуске."
   ]
  },
  {
   "cell_type": "code",
   "execution_count": null,
   "metadata": {
    "id": "dg38koziMnB2"
   },
   "outputs": [],
   "source": [
    "# ячейка с кодом, при выполнении которой появится output\n",
    "2 + 2"
   ]
  },
  {
   "cell_type": "markdown",
   "metadata": {
    "id": "ewPedHhMMnB5"
   },
   "source": [
    "А это ___ячейка с текстом___."
   ]
  },
  {
   "cell_type": "raw",
   "metadata": {
    "id": "cbjFS33CMnB6"
   },
   "source": [
    "Ячейка с неразмеченыным текстом."
   ]
  },
  {
   "cell_type": "markdown",
   "metadata": {
    "id": "bXwaagCYMnB7"
   },
   "source": [
    "Попробуйте создать свои ячейки, написать какой-нибудь код и текст какой-нибудь формулой."
   ]
  },
  {
   "cell_type": "code",
   "execution_count": null,
   "metadata": {
    "id": "-3hISC2WMnB-"
   },
   "outputs": [],
   "source": [
    "# your code"
   ]
  },
  {
   "cell_type": "markdown",
   "metadata": {
    "id": "LPsW5zNCMnCA"
   },
   "source": [
    "[Здесь](https://athena.brynmawr.edu/jupyter/hub/dblank/public/Jupyter%20Notebook%20Users%20Manual.ipynb) находится <s>не</s>большая заметка о используемом языке разметки Markdown. Он позволяет:\n",
    "\n",
    "0. Составлять упорядоченные списки\n",
    "1. #Делать \n",
    "##заголовки \n",
    "###разного уровня\n",
    "3. Выделять *текст* <s>при</s> **необходимости**\n",
    "4. Добавлять [ссылки](http://imgs.xkcd.com/comics/the_universal_label.png)\n",
    "\n",
    "\n",
    "* Составлять неупорядоченные списки\n",
    "\n",
    "Делать вставки с помощью LaTex:\n",
    "    \n",
    "$\n",
    "\\left\\{\n",
    "\\begin{array}{ll}\n",
    "x = 16 \\sin^3 (t) \\\\ \n",
    "y = 13 \\cos (t) - 5 \\cos (2t) - 2 \\cos (3t) - \\cos (4t) \\\\\n",
    "t \\in [0, 2 \\pi]\n",
    "\\end{array}\n",
    "\\right.$"
   ]
  },
  {
   "cell_type": "markdown",
   "metadata": {
    "id": "Gn_QfHOtMnCC"
   },
   "source": [
    "## 1. Табличные данные и Pandas"
   ]
  },
  {
   "cell_type": "markdown",
   "metadata": {
    "id": "_bluY_-FMnCD"
   },
   "source": [
    "Pandas — это библиотека для работы с данными на Python. Она упрощает жизнь аналитикам: где раньше использовалось 10 строк кода теперь хватит одной.\n",
    "\n",
    "Например, чтобы прочитать данные из csv, в стандартном Python надо сначала решить, как хранить данные, затем открыть файл, прочитать его построчно, отделить значения друг от друга и очистить данные от специальных символов.\n",
    "\n",
    "В Pandas всё проще. Во-первых, не нужно думать, как будут храниться данные — они лежат в датафрейме. Во-вторых, достаточно написать одну команду:\n",
    "\n",
    " data = pd.read_csv('file.csv')\n",
    "\n",
    "Pandas добавляет в Python новые структуры данных — серии и датафреймы. \n",
    "\n",
    "Серии — одномерные массивы данных. Они очень похожи на списки, но отличаются по поведению — например, операции применяются к списку целиком, а в сериях — поэлементно.\n",
    "Еще одно отличие серий от списков — в качестве индексов можно использовать произвольные значения, это делает данные нагляднее.\n",
    "Датафрейм — это проиндексированный многомерный массив значений, соответственно каждый столбец датафрейма, является серией."
   ]
  },
  {
   "cell_type": "code",
   "execution_count": 1,
   "metadata": {
    "colab": {
     "base_uri": "https://localhost:8080/"
    },
    "id": "sIFYH52VMnCF",
    "outputId": "577fbd01-0036-413c-bc19-5a5e4e738f34"
   },
   "outputs": [
    {
     "name": "stdout",
     "output_type": "stream",
     "text": [
      "%pylab is deprecated, use %matplotlib inline and import the required libraries.\n",
      "Populating the interactive namespace from numpy and matplotlib\n"
     ]
    }
   ],
   "source": [
    "%pylab inline  \n",
    "# import almost all we need\n",
    "import pandas as pd\n",
    "import numpy as np\n",
    "pd.set_option('display.max_columns', None)"
   ]
  },
  {
   "cell_type": "code",
   "execution_count": 2,
   "metadata": {
    "colab": {
     "base_uri": "https://localhost:8080/"
    },
    "id": "-_JiKFmQNVPM",
    "outputId": "6ec429c8-a177-4c10-d8db-19b633ff69ca"
   },
   "outputs": [
    {
     "name": "stdout",
     "output_type": "stream",
     "text": [
      "Mounted at /gdrive\n",
      "data_for_lab_1.csv  lab1_output1.csv  lab1_output2.pdf  lab1_output2.png\n"
     ]
    }
   ],
   "source": [
    "from google.colab import drive, files\n",
    "drive.mount(\"/gdrive\")\n",
    "%ls /gdrive/MyDrive/Data-Mining-Labs/"
   ]
  },
  {
   "cell_type": "markdown",
   "metadata": {
    "id": "WyJddRs_MnCH"
   },
   "source": [
    "#### 1. Прочитайте файл с таблицей, выведите последние 10 строк.\n",
    "\n"
   ]
  },
  {
   "cell_type": "code",
   "execution_count": 2,
   "metadata": {
    "colab": {
     "base_uri": "https://localhost:8080/",
     "height": 363
    },
    "id": "A3CgGRwCMnCJ",
    "outputId": "259f61f5-c959-4a83-8d24-27eceaad6a80"
   },
   "outputs": [
    {
     "data": {
      "text/html": [
       "<div>\n",
       "<style scoped>\n",
       "    .dataframe tbody tr th:only-of-type {\n",
       "        vertical-align: middle;\n",
       "    }\n",
       "\n",
       "    .dataframe tbody tr th {\n",
       "        vertical-align: top;\n",
       "    }\n",
       "\n",
       "    .dataframe thead th {\n",
       "        text-align: right;\n",
       "    }\n",
       "</style>\n",
       "<table border=\"1\" class=\"dataframe\">\n",
       "  <thead>\n",
       "    <tr style=\"text-align: right;\">\n",
       "      <th></th>\n",
       "      <th>event_time</th>\n",
       "      <th>order_id</th>\n",
       "      <th>product_id</th>\n",
       "      <th>category_id</th>\n",
       "      <th>category_code</th>\n",
       "      <th>brand</th>\n",
       "      <th>price</th>\n",
       "      <th>user_id</th>\n",
       "    </tr>\n",
       "  </thead>\n",
       "  <tbody>\n",
       "    <tr>\n",
       "      <th>2633511</th>\n",
       "      <td>2020-11-21 10:05:04 UTC</td>\n",
       "      <td>2388440981134693938</td>\n",
       "      <td>1515966223509088509</td>\n",
       "      <td>2.268105e+18</td>\n",
       "      <td>electronics.smartphone</td>\n",
       "      <td>apple</td>\n",
       "      <td>925.67</td>\n",
       "      <td>1.515916e+18</td>\n",
       "    </tr>\n",
       "    <tr>\n",
       "      <th>2633512</th>\n",
       "      <td>2020-11-21 10:06:01 UTC</td>\n",
       "      <td>2388440981134693939</td>\n",
       "      <td>1515966223509090132</td>\n",
       "      <td>2.268105e+18</td>\n",
       "      <td>computers.peripherals.printer</td>\n",
       "      <td>canon</td>\n",
       "      <td>299.98</td>\n",
       "      <td>1.515916e+18</td>\n",
       "    </tr>\n",
       "    <tr>\n",
       "      <th>2633513</th>\n",
       "      <td>2020-11-21 10:08:14 UTC</td>\n",
       "      <td>2388440981134693940</td>\n",
       "      <td>2273948246856434093</td>\n",
       "      <td>2.268105e+18</td>\n",
       "      <td>NaN</td>\n",
       "      <td>xiaomi</td>\n",
       "      <td>16.18</td>\n",
       "      <td>1.515916e+18</td>\n",
       "    </tr>\n",
       "    <tr>\n",
       "      <th>2633514</th>\n",
       "      <td>2020-11-21 10:08:54 UTC</td>\n",
       "      <td>2388440981134693941</td>\n",
       "      <td>1515966223519279912</td>\n",
       "      <td>2.374499e+18</td>\n",
       "      <td>electronics.video.tv</td>\n",
       "      <td>samsung</td>\n",
       "      <td>1736.09</td>\n",
       "      <td>1.515916e+18</td>\n",
       "    </tr>\n",
       "    <tr>\n",
       "      <th>2633515</th>\n",
       "      <td>2020-11-21 10:08:54 UTC</td>\n",
       "      <td>2388440981134693941</td>\n",
       "      <td>1515966223509088622</td>\n",
       "      <td>2.374499e+18</td>\n",
       "      <td>electronics.video.tv</td>\n",
       "      <td>lg</td>\n",
       "      <td>370.35</td>\n",
       "      <td>1.515916e+18</td>\n",
       "    </tr>\n",
       "    <tr>\n",
       "      <th>2633516</th>\n",
       "      <td>2020-11-21 10:10:01 UTC</td>\n",
       "      <td>2388440981134693942</td>\n",
       "      <td>1515966223526602848</td>\n",
       "      <td>2.268105e+18</td>\n",
       "      <td>electronics.smartphone</td>\n",
       "      <td>oppo</td>\n",
       "      <td>138.87</td>\n",
       "      <td>1.515916e+18</td>\n",
       "    </tr>\n",
       "    <tr>\n",
       "      <th>2633517</th>\n",
       "      <td>2020-11-21 10:10:13 UTC</td>\n",
       "      <td>2388440981134693943</td>\n",
       "      <td>1515966223509089282</td>\n",
       "      <td>2.268105e+18</td>\n",
       "      <td>electronics.smartphone</td>\n",
       "      <td>apple</td>\n",
       "      <td>418.96</td>\n",
       "      <td>1.515916e+18</td>\n",
       "    </tr>\n",
       "    <tr>\n",
       "      <th>2633518</th>\n",
       "      <td>2020-11-21 10:10:30 UTC</td>\n",
       "      <td>2388440981134693944</td>\n",
       "      <td>1515966223509089917</td>\n",
       "      <td>2.268105e+18</td>\n",
       "      <td>appliances.personal.scales</td>\n",
       "      <td>vitek</td>\n",
       "      <td>12.48</td>\n",
       "      <td>1.515916e+18</td>\n",
       "    </tr>\n",
       "    <tr>\n",
       "      <th>2633519</th>\n",
       "      <td>2020-11-21 10:10:30 UTC</td>\n",
       "      <td>2388440981134693944</td>\n",
       "      <td>2273948184839454837</td>\n",
       "      <td>2.268105e+18</td>\n",
       "      <td>NaN</td>\n",
       "      <td>moulinex</td>\n",
       "      <td>41.64</td>\n",
       "      <td>1.515916e+18</td>\n",
       "    </tr>\n",
       "    <tr>\n",
       "      <th>2633520</th>\n",
       "      <td>2020-11-21 10:10:30 UTC</td>\n",
       "      <td>2388440981134693944</td>\n",
       "      <td>1515966223509127566</td>\n",
       "      <td>2.268105e+18</td>\n",
       "      <td>appliances.kitchen.blender</td>\n",
       "      <td>redmond</td>\n",
       "      <td>53.22</td>\n",
       "      <td>1.515916e+18</td>\n",
       "    </tr>\n",
       "  </tbody>\n",
       "</table>\n",
       "</div>"
      ],
      "text/plain": [
       "                      event_time             order_id           product_id  \\\n",
       "2633511  2020-11-21 10:05:04 UTC  2388440981134693938  1515966223509088509   \n",
       "2633512  2020-11-21 10:06:01 UTC  2388440981134693939  1515966223509090132   \n",
       "2633513  2020-11-21 10:08:14 UTC  2388440981134693940  2273948246856434093   \n",
       "2633514  2020-11-21 10:08:54 UTC  2388440981134693941  1515966223519279912   \n",
       "2633515  2020-11-21 10:08:54 UTC  2388440981134693941  1515966223509088622   \n",
       "2633516  2020-11-21 10:10:01 UTC  2388440981134693942  1515966223526602848   \n",
       "2633517  2020-11-21 10:10:13 UTC  2388440981134693943  1515966223509089282   \n",
       "2633518  2020-11-21 10:10:30 UTC  2388440981134693944  1515966223509089917   \n",
       "2633519  2020-11-21 10:10:30 UTC  2388440981134693944  2273948184839454837   \n",
       "2633520  2020-11-21 10:10:30 UTC  2388440981134693944  1515966223509127566   \n",
       "\n",
       "          category_id                  category_code     brand    price  \\\n",
       "2633511  2.268105e+18         electronics.smartphone     apple   925.67   \n",
       "2633512  2.268105e+18  computers.peripherals.printer     canon   299.98   \n",
       "2633513  2.268105e+18                            NaN    xiaomi    16.18   \n",
       "2633514  2.374499e+18           electronics.video.tv   samsung  1736.09   \n",
       "2633515  2.374499e+18           electronics.video.tv        lg   370.35   \n",
       "2633516  2.268105e+18         electronics.smartphone      oppo   138.87   \n",
       "2633517  2.268105e+18         electronics.smartphone     apple   418.96   \n",
       "2633518  2.268105e+18     appliances.personal.scales     vitek    12.48   \n",
       "2633519  2.268105e+18                            NaN  moulinex    41.64   \n",
       "2633520  2.268105e+18     appliances.kitchen.blender   redmond    53.22   \n",
       "\n",
       "              user_id  \n",
       "2633511  1.515916e+18  \n",
       "2633512  1.515916e+18  \n",
       "2633513  1.515916e+18  \n",
       "2633514  1.515916e+18  \n",
       "2633515  1.515916e+18  \n",
       "2633516  1.515916e+18  \n",
       "2633517  1.515916e+18  \n",
       "2633518  1.515916e+18  \n",
       "2633519  1.515916e+18  \n",
       "2633520  1.515916e+18  "
      ]
     },
     "execution_count": 2,
     "metadata": {},
     "output_type": "execute_result"
    }
   ],
   "source": [
    "data = pd.read_csv('data_for_lab_1.csv')\n",
    "data.shape\n",
    "data[-10:]"
   ]
  },
  {
   "cell_type": "markdown",
   "metadata": {
    "id": "GhLYdqiiMnCK"
   },
   "source": [
    "#### 2.  Выведите следующую информацию:\n",
    "1. Сколько всего заказов в исходной выборке данных?\n",
    "2. Количество уникальных категорий товара (category_code)"
   ]
  },
  {
   "cell_type": "code",
   "execution_count": 4,
   "metadata": {
    "colab": {
     "base_uri": "https://localhost:8080/"
    },
    "id": "IyX8HpXzMnCK",
    "outputId": "e46e8b3c-0f2c-4404-8928-0c61f6bb5e41"
   },
   "outputs": [
    {
     "name": "stdout",
     "output_type": "stream",
     "text": [
      "2633521 511\n"
     ]
    }
   ],
   "source": [
    "x = len(data)\n",
    "y = len(data.category_code.unique())\n",
    "print(x, y)"
   ]
  },
  {
   "cell_type": "markdown",
   "metadata": {
    "id": "O_21qBpkMnCO"
   },
   "source": [
    "#### 3. Найдите столбцы с пустыми значениями, заполните строковые значения пустой строкой, числовые - 0."
   ]
  },
  {
   "cell_type": "code",
   "execution_count": 3,
   "metadata": {
    "colab": {
     "base_uri": "https://localhost:8080/",
     "height": 363
    },
    "id": "MolPR0gOMnCP",
    "outputId": "74db1b6c-dde9-4b91-ff3b-83f93d327476"
   },
   "outputs": [
    {
     "data": {
      "text/html": [
       "<div>\n",
       "<style scoped>\n",
       "    .dataframe tbody tr th:only-of-type {\n",
       "        vertical-align: middle;\n",
       "    }\n",
       "\n",
       "    .dataframe tbody tr th {\n",
       "        vertical-align: top;\n",
       "    }\n",
       "\n",
       "    .dataframe thead th {\n",
       "        text-align: right;\n",
       "    }\n",
       "</style>\n",
       "<table border=\"1\" class=\"dataframe\">\n",
       "  <thead>\n",
       "    <tr style=\"text-align: right;\">\n",
       "      <th></th>\n",
       "      <th>event_time</th>\n",
       "      <th>order_id</th>\n",
       "      <th>product_id</th>\n",
       "      <th>category_id</th>\n",
       "      <th>category_code</th>\n",
       "      <th>brand</th>\n",
       "      <th>price</th>\n",
       "      <th>user_id</th>\n",
       "    </tr>\n",
       "  </thead>\n",
       "  <tbody>\n",
       "    <tr>\n",
       "      <th>2633511</th>\n",
       "      <td>2020-11-21 10:05:04 UTC</td>\n",
       "      <td>2388440981134693938</td>\n",
       "      <td>1515966223509088509</td>\n",
       "      <td>2.268105e+18</td>\n",
       "      <td>electronics.smartphone</td>\n",
       "      <td>apple</td>\n",
       "      <td>925.67</td>\n",
       "      <td>1.515916e+18</td>\n",
       "    </tr>\n",
       "    <tr>\n",
       "      <th>2633512</th>\n",
       "      <td>2020-11-21 10:06:01 UTC</td>\n",
       "      <td>2388440981134693939</td>\n",
       "      <td>1515966223509090132</td>\n",
       "      <td>2.268105e+18</td>\n",
       "      <td>computers.peripherals.printer</td>\n",
       "      <td>canon</td>\n",
       "      <td>299.98</td>\n",
       "      <td>1.515916e+18</td>\n",
       "    </tr>\n",
       "    <tr>\n",
       "      <th>2633513</th>\n",
       "      <td>2020-11-21 10:08:14 UTC</td>\n",
       "      <td>2388440981134693940</td>\n",
       "      <td>2273948246856434093</td>\n",
       "      <td>2.268105e+18</td>\n",
       "      <td></td>\n",
       "      <td>xiaomi</td>\n",
       "      <td>16.18</td>\n",
       "      <td>1.515916e+18</td>\n",
       "    </tr>\n",
       "    <tr>\n",
       "      <th>2633514</th>\n",
       "      <td>2020-11-21 10:08:54 UTC</td>\n",
       "      <td>2388440981134693941</td>\n",
       "      <td>1515966223519279912</td>\n",
       "      <td>2.374499e+18</td>\n",
       "      <td>electronics.video.tv</td>\n",
       "      <td>samsung</td>\n",
       "      <td>1736.09</td>\n",
       "      <td>1.515916e+18</td>\n",
       "    </tr>\n",
       "    <tr>\n",
       "      <th>2633515</th>\n",
       "      <td>2020-11-21 10:08:54 UTC</td>\n",
       "      <td>2388440981134693941</td>\n",
       "      <td>1515966223509088622</td>\n",
       "      <td>2.374499e+18</td>\n",
       "      <td>electronics.video.tv</td>\n",
       "      <td>lg</td>\n",
       "      <td>370.35</td>\n",
       "      <td>1.515916e+18</td>\n",
       "    </tr>\n",
       "    <tr>\n",
       "      <th>2633516</th>\n",
       "      <td>2020-11-21 10:10:01 UTC</td>\n",
       "      <td>2388440981134693942</td>\n",
       "      <td>1515966223526602848</td>\n",
       "      <td>2.268105e+18</td>\n",
       "      <td>electronics.smartphone</td>\n",
       "      <td>oppo</td>\n",
       "      <td>138.87</td>\n",
       "      <td>1.515916e+18</td>\n",
       "    </tr>\n",
       "    <tr>\n",
       "      <th>2633517</th>\n",
       "      <td>2020-11-21 10:10:13 UTC</td>\n",
       "      <td>2388440981134693943</td>\n",
       "      <td>1515966223509089282</td>\n",
       "      <td>2.268105e+18</td>\n",
       "      <td>electronics.smartphone</td>\n",
       "      <td>apple</td>\n",
       "      <td>418.96</td>\n",
       "      <td>1.515916e+18</td>\n",
       "    </tr>\n",
       "    <tr>\n",
       "      <th>2633518</th>\n",
       "      <td>2020-11-21 10:10:30 UTC</td>\n",
       "      <td>2388440981134693944</td>\n",
       "      <td>1515966223509089917</td>\n",
       "      <td>2.268105e+18</td>\n",
       "      <td>appliances.personal.scales</td>\n",
       "      <td>vitek</td>\n",
       "      <td>12.48</td>\n",
       "      <td>1.515916e+18</td>\n",
       "    </tr>\n",
       "    <tr>\n",
       "      <th>2633519</th>\n",
       "      <td>2020-11-21 10:10:30 UTC</td>\n",
       "      <td>2388440981134693944</td>\n",
       "      <td>2273948184839454837</td>\n",
       "      <td>2.268105e+18</td>\n",
       "      <td></td>\n",
       "      <td>moulinex</td>\n",
       "      <td>41.64</td>\n",
       "      <td>1.515916e+18</td>\n",
       "    </tr>\n",
       "    <tr>\n",
       "      <th>2633520</th>\n",
       "      <td>2020-11-21 10:10:30 UTC</td>\n",
       "      <td>2388440981134693944</td>\n",
       "      <td>1515966223509127566</td>\n",
       "      <td>2.268105e+18</td>\n",
       "      <td>appliances.kitchen.blender</td>\n",
       "      <td>redmond</td>\n",
       "      <td>53.22</td>\n",
       "      <td>1.515916e+18</td>\n",
       "    </tr>\n",
       "  </tbody>\n",
       "</table>\n",
       "</div>"
      ],
      "text/plain": [
       "                      event_time             order_id           product_id  \\\n",
       "2633511  2020-11-21 10:05:04 UTC  2388440981134693938  1515966223509088509   \n",
       "2633512  2020-11-21 10:06:01 UTC  2388440981134693939  1515966223509090132   \n",
       "2633513  2020-11-21 10:08:14 UTC  2388440981134693940  2273948246856434093   \n",
       "2633514  2020-11-21 10:08:54 UTC  2388440981134693941  1515966223519279912   \n",
       "2633515  2020-11-21 10:08:54 UTC  2388440981134693941  1515966223509088622   \n",
       "2633516  2020-11-21 10:10:01 UTC  2388440981134693942  1515966223526602848   \n",
       "2633517  2020-11-21 10:10:13 UTC  2388440981134693943  1515966223509089282   \n",
       "2633518  2020-11-21 10:10:30 UTC  2388440981134693944  1515966223509089917   \n",
       "2633519  2020-11-21 10:10:30 UTC  2388440981134693944  2273948184839454837   \n",
       "2633520  2020-11-21 10:10:30 UTC  2388440981134693944  1515966223509127566   \n",
       "\n",
       "          category_id                  category_code     brand    price  \\\n",
       "2633511  2.268105e+18         electronics.smartphone     apple   925.67   \n",
       "2633512  2.268105e+18  computers.peripherals.printer     canon   299.98   \n",
       "2633513  2.268105e+18                                   xiaomi    16.18   \n",
       "2633514  2.374499e+18           electronics.video.tv   samsung  1736.09   \n",
       "2633515  2.374499e+18           electronics.video.tv        lg   370.35   \n",
       "2633516  2.268105e+18         electronics.smartphone      oppo   138.87   \n",
       "2633517  2.268105e+18         electronics.smartphone     apple   418.96   \n",
       "2633518  2.268105e+18     appliances.personal.scales     vitek    12.48   \n",
       "2633519  2.268105e+18                                 moulinex    41.64   \n",
       "2633520  2.268105e+18     appliances.kitchen.blender   redmond    53.22   \n",
       "\n",
       "              user_id  \n",
       "2633511  1.515916e+18  \n",
       "2633512  1.515916e+18  \n",
       "2633513  1.515916e+18  \n",
       "2633514  1.515916e+18  \n",
       "2633515  1.515916e+18  \n",
       "2633516  1.515916e+18  \n",
       "2633517  1.515916e+18  \n",
       "2633518  1.515916e+18  \n",
       "2633519  1.515916e+18  \n",
       "2633520  1.515916e+18  "
      ]
     },
     "execution_count": 3,
     "metadata": {},
     "output_type": "execute_result"
    }
   ],
   "source": [
    "data[\"order_id\"] = data[\"order_id\"].fillna(0)\n",
    "data[\"product_id\"] = data[\"product_id\"].fillna(0)\n",
    "data[\"category_id\"] = data[\"category_id\"].fillna(0)\n",
    "data[\"category_code\"] = data[\"category_code\"].fillna('')\n",
    "data[\"brand\"] = data[\"brand\"].fillna('none')\n",
    "data[\"price\"] = data[\"price\"].fillna(0)\n",
    "data[\"user_id\"] = data[\"user_id\"].fillna(0)\n",
    "df = data.copy()\n",
    "data[-10:]"
   ]
  },
  {
   "cell_type": "markdown",
   "metadata": {
    "id": "oKxYKgLXMnCQ"
   },
   "source": [
    "#### 4.  Обратите внимание на колонку, содержащую цену товара. Создайте новую колонку, таким образом, чтобы цена стала числом.\n",
    "\n",
    "Для этого необходимо применить функцию-преобразование к каждой строке таблицы (для этого есть соответствующая функция)."
   ]
  },
  {
   "cell_type": "code",
   "execution_count": null,
   "metadata": {
    "id": "UyNh8m-rMnCR"
   },
   "outputs": [],
   "source": [
    "# Колонка \"price\" и так число"
   ]
  },
  {
   "cell_type": "markdown",
   "metadata": {
    "id": "N15ZV7VvMnCS"
   },
   "source": [
    "Выведите среднюю/минимальную/максимальную цену у товара."
   ]
  },
  {
   "cell_type": "code",
   "execution_count": 6,
   "metadata": {
    "colab": {
     "base_uri": "https://localhost:8080/"
    },
    "id": "SSbJ8e9KMnCS",
    "outputId": "c44c062e-ed19-46ee-ecf0-1eea5d4f64a7"
   },
   "outputs": [
    {
     "name": "stdout",
     "output_type": "stream",
     "text": [
      "Mean price:  154.1016348843336\n",
      "Min price:  0.02\n",
      "Max price:  50925.9\n"
     ]
    }
   ],
   "source": [
    "# Exclude zeros in global statistics\n",
    "data[\"price\"] = data[\"price\"].replace(0, np.NaN)\n",
    "\n",
    "# Output\n",
    "print(\"Mean price: \", data[\"price\"].mean())\n",
    "print(\"Min price: \", data[\"price\"].min())\n",
    "print(\"Max price: \", data[\"price\"].max())\n",
    "\n",
    "# Return zeros\n",
    "data[\"price\"] = data[\"price\"].replace(np.NaN, 0)"
   ]
  },
  {
   "cell_type": "markdown",
   "metadata": {
    "id": "PlIxsFbHMnCT"
   },
   "source": [
    "Удалите старую колонку с ценой."
   ]
  },
  {
   "cell_type": "code",
   "execution_count": 7,
   "metadata": {
    "colab": {
     "base_uri": "https://localhost:8080/",
     "height": 363
    },
    "id": "zdrwfcbXMnCT",
    "outputId": "8e70b332-b688-428e-aa58-ffc7b83d570e"
   },
   "outputs": [
    {
     "data": {
      "text/html": [
       "\n",
       "  <div id=\"df-ac275e58-2352-49c6-98a3-6d7f17c02b74\">\n",
       "    <div class=\"colab-df-container\">\n",
       "      <div>\n",
       "<style scoped>\n",
       "    .dataframe tbody tr th:only-of-type {\n",
       "        vertical-align: middle;\n",
       "    }\n",
       "\n",
       "    .dataframe tbody tr th {\n",
       "        vertical-align: top;\n",
       "    }\n",
       "\n",
       "    .dataframe thead th {\n",
       "        text-align: right;\n",
       "    }\n",
       "</style>\n",
       "<table border=\"1\" class=\"dataframe\">\n",
       "  <thead>\n",
       "    <tr style=\"text-align: right;\">\n",
       "      <th></th>\n",
       "      <th>event_time</th>\n",
       "      <th>order_id</th>\n",
       "      <th>product_id</th>\n",
       "      <th>category_id</th>\n",
       "      <th>category_code</th>\n",
       "      <th>brand</th>\n",
       "      <th>user_id</th>\n",
       "    </tr>\n",
       "  </thead>\n",
       "  <tbody>\n",
       "    <tr>\n",
       "      <th>2633511</th>\n",
       "      <td>2020-11-21 10:05:04 UTC</td>\n",
       "      <td>2388440981134693938</td>\n",
       "      <td>1515966223509088509</td>\n",
       "      <td>2.268105e+18</td>\n",
       "      <td>electronics.smartphone</td>\n",
       "      <td>apple</td>\n",
       "      <td>1.515916e+18</td>\n",
       "    </tr>\n",
       "    <tr>\n",
       "      <th>2633512</th>\n",
       "      <td>2020-11-21 10:06:01 UTC</td>\n",
       "      <td>2388440981134693939</td>\n",
       "      <td>1515966223509090132</td>\n",
       "      <td>2.268105e+18</td>\n",
       "      <td>computers.peripherals.printer</td>\n",
       "      <td>canon</td>\n",
       "      <td>1.515916e+18</td>\n",
       "    </tr>\n",
       "    <tr>\n",
       "      <th>2633513</th>\n",
       "      <td>2020-11-21 10:08:14 UTC</td>\n",
       "      <td>2388440981134693940</td>\n",
       "      <td>2273948246856434093</td>\n",
       "      <td>2.268105e+18</td>\n",
       "      <td></td>\n",
       "      <td>xiaomi</td>\n",
       "      <td>1.515916e+18</td>\n",
       "    </tr>\n",
       "    <tr>\n",
       "      <th>2633514</th>\n",
       "      <td>2020-11-21 10:08:54 UTC</td>\n",
       "      <td>2388440981134693941</td>\n",
       "      <td>1515966223519279912</td>\n",
       "      <td>2.374499e+18</td>\n",
       "      <td>electronics.video.tv</td>\n",
       "      <td>samsung</td>\n",
       "      <td>1.515916e+18</td>\n",
       "    </tr>\n",
       "    <tr>\n",
       "      <th>2633515</th>\n",
       "      <td>2020-11-21 10:08:54 UTC</td>\n",
       "      <td>2388440981134693941</td>\n",
       "      <td>1515966223509088622</td>\n",
       "      <td>2.374499e+18</td>\n",
       "      <td>electronics.video.tv</td>\n",
       "      <td>lg</td>\n",
       "      <td>1.515916e+18</td>\n",
       "    </tr>\n",
       "    <tr>\n",
       "      <th>2633516</th>\n",
       "      <td>2020-11-21 10:10:01 UTC</td>\n",
       "      <td>2388440981134693942</td>\n",
       "      <td>1515966223526602848</td>\n",
       "      <td>2.268105e+18</td>\n",
       "      <td>electronics.smartphone</td>\n",
       "      <td>oppo</td>\n",
       "      <td>1.515916e+18</td>\n",
       "    </tr>\n",
       "    <tr>\n",
       "      <th>2633517</th>\n",
       "      <td>2020-11-21 10:10:13 UTC</td>\n",
       "      <td>2388440981134693943</td>\n",
       "      <td>1515966223509089282</td>\n",
       "      <td>2.268105e+18</td>\n",
       "      <td>electronics.smartphone</td>\n",
       "      <td>apple</td>\n",
       "      <td>1.515916e+18</td>\n",
       "    </tr>\n",
       "    <tr>\n",
       "      <th>2633518</th>\n",
       "      <td>2020-11-21 10:10:30 UTC</td>\n",
       "      <td>2388440981134693944</td>\n",
       "      <td>1515966223509089917</td>\n",
       "      <td>2.268105e+18</td>\n",
       "      <td>appliances.personal.scales</td>\n",
       "      <td>vitek</td>\n",
       "      <td>1.515916e+18</td>\n",
       "    </tr>\n",
       "    <tr>\n",
       "      <th>2633519</th>\n",
       "      <td>2020-11-21 10:10:30 UTC</td>\n",
       "      <td>2388440981134693944</td>\n",
       "      <td>2273948184839454837</td>\n",
       "      <td>2.268105e+18</td>\n",
       "      <td></td>\n",
       "      <td>moulinex</td>\n",
       "      <td>1.515916e+18</td>\n",
       "    </tr>\n",
       "    <tr>\n",
       "      <th>2633520</th>\n",
       "      <td>2020-11-21 10:10:30 UTC</td>\n",
       "      <td>2388440981134693944</td>\n",
       "      <td>1515966223509127566</td>\n",
       "      <td>2.268105e+18</td>\n",
       "      <td>appliances.kitchen.blender</td>\n",
       "      <td>redmond</td>\n",
       "      <td>1.515916e+18</td>\n",
       "    </tr>\n",
       "  </tbody>\n",
       "</table>\n",
       "</div>\n",
       "      <button class=\"colab-df-convert\" onclick=\"convertToInteractive('df-ac275e58-2352-49c6-98a3-6d7f17c02b74')\"\n",
       "              title=\"Convert this dataframe to an interactive table.\"\n",
       "              style=\"display:none;\">\n",
       "        \n",
       "  <svg xmlns=\"http://www.w3.org/2000/svg\" height=\"24px\"viewBox=\"0 0 24 24\"\n",
       "       width=\"24px\">\n",
       "    <path d=\"M0 0h24v24H0V0z\" fill=\"none\"/>\n",
       "    <path d=\"M18.56 5.44l.94 2.06.94-2.06 2.06-.94-2.06-.94-.94-2.06-.94 2.06-2.06.94zm-11 1L8.5 8.5l.94-2.06 2.06-.94-2.06-.94L8.5 2.5l-.94 2.06-2.06.94zm10 10l.94 2.06.94-2.06 2.06-.94-2.06-.94-.94-2.06-.94 2.06-2.06.94z\"/><path d=\"M17.41 7.96l-1.37-1.37c-.4-.4-.92-.59-1.43-.59-.52 0-1.04.2-1.43.59L10.3 9.45l-7.72 7.72c-.78.78-.78 2.05 0 2.83L4 21.41c.39.39.9.59 1.41.59.51 0 1.02-.2 1.41-.59l7.78-7.78 2.81-2.81c.8-.78.8-2.07 0-2.86zM5.41 20L4 18.59l7.72-7.72 1.47 1.35L5.41 20z\"/>\n",
       "  </svg>\n",
       "      </button>\n",
       "      \n",
       "  <style>\n",
       "    .colab-df-container {\n",
       "      display:flex;\n",
       "      flex-wrap:wrap;\n",
       "      gap: 12px;\n",
       "    }\n",
       "\n",
       "    .colab-df-convert {\n",
       "      background-color: #E8F0FE;\n",
       "      border: none;\n",
       "      border-radius: 50%;\n",
       "      cursor: pointer;\n",
       "      display: none;\n",
       "      fill: #1967D2;\n",
       "      height: 32px;\n",
       "      padding: 0 0 0 0;\n",
       "      width: 32px;\n",
       "    }\n",
       "\n",
       "    .colab-df-convert:hover {\n",
       "      background-color: #E2EBFA;\n",
       "      box-shadow: 0px 1px 2px rgba(60, 64, 67, 0.3), 0px 1px 3px 1px rgba(60, 64, 67, 0.15);\n",
       "      fill: #174EA6;\n",
       "    }\n",
       "\n",
       "    [theme=dark] .colab-df-convert {\n",
       "      background-color: #3B4455;\n",
       "      fill: #D2E3FC;\n",
       "    }\n",
       "\n",
       "    [theme=dark] .colab-df-convert:hover {\n",
       "      background-color: #434B5C;\n",
       "      box-shadow: 0px 1px 3px 1px rgba(0, 0, 0, 0.15);\n",
       "      filter: drop-shadow(0px 1px 2px rgba(0, 0, 0, 0.3));\n",
       "      fill: #FFFFFF;\n",
       "    }\n",
       "  </style>\n",
       "\n",
       "      <script>\n",
       "        const buttonEl =\n",
       "          document.querySelector('#df-ac275e58-2352-49c6-98a3-6d7f17c02b74 button.colab-df-convert');\n",
       "        buttonEl.style.display =\n",
       "          google.colab.kernel.accessAllowed ? 'block' : 'none';\n",
       "\n",
       "        async function convertToInteractive(key) {\n",
       "          const element = document.querySelector('#df-ac275e58-2352-49c6-98a3-6d7f17c02b74');\n",
       "          const dataTable =\n",
       "            await google.colab.kernel.invokeFunction('convertToInteractive',\n",
       "                                                     [key], {});\n",
       "          if (!dataTable) return;\n",
       "\n",
       "          const docLinkHtml = 'Like what you see? Visit the ' +\n",
       "            '<a target=\"_blank\" href=https://colab.research.google.com/notebooks/data_table.ipynb>data table notebook</a>'\n",
       "            + ' to learn more about interactive tables.';\n",
       "          element.innerHTML = '';\n",
       "          dataTable['output_type'] = 'display_data';\n",
       "          await google.colab.output.renderOutput(dataTable, element);\n",
       "          const docLink = document.createElement('div');\n",
       "          docLink.innerHTML = docLinkHtml;\n",
       "          element.appendChild(docLink);\n",
       "        }\n",
       "      </script>\n",
       "    </div>\n",
       "  </div>\n",
       "  "
      ],
      "text/plain": [
       "                      event_time             order_id           product_id  \\\n",
       "2633511  2020-11-21 10:05:04 UTC  2388440981134693938  1515966223509088509   \n",
       "2633512  2020-11-21 10:06:01 UTC  2388440981134693939  1515966223509090132   \n",
       "2633513  2020-11-21 10:08:14 UTC  2388440981134693940  2273948246856434093   \n",
       "2633514  2020-11-21 10:08:54 UTC  2388440981134693941  1515966223519279912   \n",
       "2633515  2020-11-21 10:08:54 UTC  2388440981134693941  1515966223509088622   \n",
       "2633516  2020-11-21 10:10:01 UTC  2388440981134693942  1515966223526602848   \n",
       "2633517  2020-11-21 10:10:13 UTC  2388440981134693943  1515966223509089282   \n",
       "2633518  2020-11-21 10:10:30 UTC  2388440981134693944  1515966223509089917   \n",
       "2633519  2020-11-21 10:10:30 UTC  2388440981134693944  2273948184839454837   \n",
       "2633520  2020-11-21 10:10:30 UTC  2388440981134693944  1515966223509127566   \n",
       "\n",
       "          category_id                  category_code     brand       user_id  \n",
       "2633511  2.268105e+18         electronics.smartphone     apple  1.515916e+18  \n",
       "2633512  2.268105e+18  computers.peripherals.printer     canon  1.515916e+18  \n",
       "2633513  2.268105e+18                                   xiaomi  1.515916e+18  \n",
       "2633514  2.374499e+18           electronics.video.tv   samsung  1.515916e+18  \n",
       "2633515  2.374499e+18           electronics.video.tv        lg  1.515916e+18  \n",
       "2633516  2.268105e+18         electronics.smartphone      oppo  1.515916e+18  \n",
       "2633517  2.268105e+18         electronics.smartphone     apple  1.515916e+18  \n",
       "2633518  2.268105e+18     appliances.personal.scales     vitek  1.515916e+18  \n",
       "2633519  2.268105e+18                                 moulinex  1.515916e+18  \n",
       "2633520  2.268105e+18     appliances.kitchen.blender   redmond  1.515916e+18  "
      ]
     },
     "execution_count": 7,
     "metadata": {},
     "output_type": "execute_result"
    }
   ],
   "source": [
    "# Delete column\n",
    "without = data.pop(\"price\")\n",
    "data[-10:]"
   ]
  },
  {
   "cell_type": "code",
   "execution_count": 8,
   "metadata": {
    "colab": {
     "base_uri": "https://localhost:8080/",
     "height": 363
    },
    "id": "KQevwIj-lS-R",
    "outputId": "8a227d57-80a5-4002-b97c-da449993b46d"
   },
   "outputs": [
    {
     "data": {
      "text/html": [
       "\n",
       "  <div id=\"df-fd11d7f2-f071-467a-9a1a-628a3a307d2c\">\n",
       "    <div class=\"colab-df-container\">\n",
       "      <div>\n",
       "<style scoped>\n",
       "    .dataframe tbody tr th:only-of-type {\n",
       "        vertical-align: middle;\n",
       "    }\n",
       "\n",
       "    .dataframe tbody tr th {\n",
       "        vertical-align: top;\n",
       "    }\n",
       "\n",
       "    .dataframe thead th {\n",
       "        text-align: right;\n",
       "    }\n",
       "</style>\n",
       "<table border=\"1\" class=\"dataframe\">\n",
       "  <thead>\n",
       "    <tr style=\"text-align: right;\">\n",
       "      <th></th>\n",
       "      <th>event_time</th>\n",
       "      <th>order_id</th>\n",
       "      <th>product_id</th>\n",
       "      <th>category_id</th>\n",
       "      <th>category_code</th>\n",
       "      <th>brand</th>\n",
       "      <th>user_id</th>\n",
       "      <th>price</th>\n",
       "    </tr>\n",
       "  </thead>\n",
       "  <tbody>\n",
       "    <tr>\n",
       "      <th>2633511</th>\n",
       "      <td>2020-11-21 10:05:04 UTC</td>\n",
       "      <td>2388440981134693938</td>\n",
       "      <td>1515966223509088509</td>\n",
       "      <td>2.268105e+18</td>\n",
       "      <td>electronics.smartphone</td>\n",
       "      <td>apple</td>\n",
       "      <td>1.515916e+18</td>\n",
       "      <td>925.67</td>\n",
       "    </tr>\n",
       "    <tr>\n",
       "      <th>2633512</th>\n",
       "      <td>2020-11-21 10:06:01 UTC</td>\n",
       "      <td>2388440981134693939</td>\n",
       "      <td>1515966223509090132</td>\n",
       "      <td>2.268105e+18</td>\n",
       "      <td>computers.peripherals.printer</td>\n",
       "      <td>canon</td>\n",
       "      <td>1.515916e+18</td>\n",
       "      <td>299.98</td>\n",
       "    </tr>\n",
       "    <tr>\n",
       "      <th>2633513</th>\n",
       "      <td>2020-11-21 10:08:14 UTC</td>\n",
       "      <td>2388440981134693940</td>\n",
       "      <td>2273948246856434093</td>\n",
       "      <td>2.268105e+18</td>\n",
       "      <td></td>\n",
       "      <td>xiaomi</td>\n",
       "      <td>1.515916e+18</td>\n",
       "      <td>16.18</td>\n",
       "    </tr>\n",
       "    <tr>\n",
       "      <th>2633514</th>\n",
       "      <td>2020-11-21 10:08:54 UTC</td>\n",
       "      <td>2388440981134693941</td>\n",
       "      <td>1515966223519279912</td>\n",
       "      <td>2.374499e+18</td>\n",
       "      <td>electronics.video.tv</td>\n",
       "      <td>samsung</td>\n",
       "      <td>1.515916e+18</td>\n",
       "      <td>1736.09</td>\n",
       "    </tr>\n",
       "    <tr>\n",
       "      <th>2633515</th>\n",
       "      <td>2020-11-21 10:08:54 UTC</td>\n",
       "      <td>2388440981134693941</td>\n",
       "      <td>1515966223509088622</td>\n",
       "      <td>2.374499e+18</td>\n",
       "      <td>electronics.video.tv</td>\n",
       "      <td>lg</td>\n",
       "      <td>1.515916e+18</td>\n",
       "      <td>370.35</td>\n",
       "    </tr>\n",
       "    <tr>\n",
       "      <th>2633516</th>\n",
       "      <td>2020-11-21 10:10:01 UTC</td>\n",
       "      <td>2388440981134693942</td>\n",
       "      <td>1515966223526602848</td>\n",
       "      <td>2.268105e+18</td>\n",
       "      <td>electronics.smartphone</td>\n",
       "      <td>oppo</td>\n",
       "      <td>1.515916e+18</td>\n",
       "      <td>138.87</td>\n",
       "    </tr>\n",
       "    <tr>\n",
       "      <th>2633517</th>\n",
       "      <td>2020-11-21 10:10:13 UTC</td>\n",
       "      <td>2388440981134693943</td>\n",
       "      <td>1515966223509089282</td>\n",
       "      <td>2.268105e+18</td>\n",
       "      <td>electronics.smartphone</td>\n",
       "      <td>apple</td>\n",
       "      <td>1.515916e+18</td>\n",
       "      <td>418.96</td>\n",
       "    </tr>\n",
       "    <tr>\n",
       "      <th>2633518</th>\n",
       "      <td>2020-11-21 10:10:30 UTC</td>\n",
       "      <td>2388440981134693944</td>\n",
       "      <td>1515966223509089917</td>\n",
       "      <td>2.268105e+18</td>\n",
       "      <td>appliances.personal.scales</td>\n",
       "      <td>vitek</td>\n",
       "      <td>1.515916e+18</td>\n",
       "      <td>12.48</td>\n",
       "    </tr>\n",
       "    <tr>\n",
       "      <th>2633519</th>\n",
       "      <td>2020-11-21 10:10:30 UTC</td>\n",
       "      <td>2388440981134693944</td>\n",
       "      <td>2273948184839454837</td>\n",
       "      <td>2.268105e+18</td>\n",
       "      <td></td>\n",
       "      <td>moulinex</td>\n",
       "      <td>1.515916e+18</td>\n",
       "      <td>41.64</td>\n",
       "    </tr>\n",
       "    <tr>\n",
       "      <th>2633520</th>\n",
       "      <td>2020-11-21 10:10:30 UTC</td>\n",
       "      <td>2388440981134693944</td>\n",
       "      <td>1515966223509127566</td>\n",
       "      <td>2.268105e+18</td>\n",
       "      <td>appliances.kitchen.blender</td>\n",
       "      <td>redmond</td>\n",
       "      <td>1.515916e+18</td>\n",
       "      <td>53.22</td>\n",
       "    </tr>\n",
       "  </tbody>\n",
       "</table>\n",
       "</div>\n",
       "      <button class=\"colab-df-convert\" onclick=\"convertToInteractive('df-fd11d7f2-f071-467a-9a1a-628a3a307d2c')\"\n",
       "              title=\"Convert this dataframe to an interactive table.\"\n",
       "              style=\"display:none;\">\n",
       "        \n",
       "  <svg xmlns=\"http://www.w3.org/2000/svg\" height=\"24px\"viewBox=\"0 0 24 24\"\n",
       "       width=\"24px\">\n",
       "    <path d=\"M0 0h24v24H0V0z\" fill=\"none\"/>\n",
       "    <path d=\"M18.56 5.44l.94 2.06.94-2.06 2.06-.94-2.06-.94-.94-2.06-.94 2.06-2.06.94zm-11 1L8.5 8.5l.94-2.06 2.06-.94-2.06-.94L8.5 2.5l-.94 2.06-2.06.94zm10 10l.94 2.06.94-2.06 2.06-.94-2.06-.94-.94-2.06-.94 2.06-2.06.94z\"/><path d=\"M17.41 7.96l-1.37-1.37c-.4-.4-.92-.59-1.43-.59-.52 0-1.04.2-1.43.59L10.3 9.45l-7.72 7.72c-.78.78-.78 2.05 0 2.83L4 21.41c.39.39.9.59 1.41.59.51 0 1.02-.2 1.41-.59l7.78-7.78 2.81-2.81c.8-.78.8-2.07 0-2.86zM5.41 20L4 18.59l7.72-7.72 1.47 1.35L5.41 20z\"/>\n",
       "  </svg>\n",
       "      </button>\n",
       "      \n",
       "  <style>\n",
       "    .colab-df-container {\n",
       "      display:flex;\n",
       "      flex-wrap:wrap;\n",
       "      gap: 12px;\n",
       "    }\n",
       "\n",
       "    .colab-df-convert {\n",
       "      background-color: #E8F0FE;\n",
       "      border: none;\n",
       "      border-radius: 50%;\n",
       "      cursor: pointer;\n",
       "      display: none;\n",
       "      fill: #1967D2;\n",
       "      height: 32px;\n",
       "      padding: 0 0 0 0;\n",
       "      width: 32px;\n",
       "    }\n",
       "\n",
       "    .colab-df-convert:hover {\n",
       "      background-color: #E2EBFA;\n",
       "      box-shadow: 0px 1px 2px rgba(60, 64, 67, 0.3), 0px 1px 3px 1px rgba(60, 64, 67, 0.15);\n",
       "      fill: #174EA6;\n",
       "    }\n",
       "\n",
       "    [theme=dark] .colab-df-convert {\n",
       "      background-color: #3B4455;\n",
       "      fill: #D2E3FC;\n",
       "    }\n",
       "\n",
       "    [theme=dark] .colab-df-convert:hover {\n",
       "      background-color: #434B5C;\n",
       "      box-shadow: 0px 1px 3px 1px rgba(0, 0, 0, 0.15);\n",
       "      filter: drop-shadow(0px 1px 2px rgba(0, 0, 0, 0.3));\n",
       "      fill: #FFFFFF;\n",
       "    }\n",
       "  </style>\n",
       "\n",
       "      <script>\n",
       "        const buttonEl =\n",
       "          document.querySelector('#df-fd11d7f2-f071-467a-9a1a-628a3a307d2c button.colab-df-convert');\n",
       "        buttonEl.style.display =\n",
       "          google.colab.kernel.accessAllowed ? 'block' : 'none';\n",
       "\n",
       "        async function convertToInteractive(key) {\n",
       "          const element = document.querySelector('#df-fd11d7f2-f071-467a-9a1a-628a3a307d2c');\n",
       "          const dataTable =\n",
       "            await google.colab.kernel.invokeFunction('convertToInteractive',\n",
       "                                                     [key], {});\n",
       "          if (!dataTable) return;\n",
       "\n",
       "          const docLinkHtml = 'Like what you see? Visit the ' +\n",
       "            '<a target=\"_blank\" href=https://colab.research.google.com/notebooks/data_table.ipynb>data table notebook</a>'\n",
       "            + ' to learn more about interactive tables.';\n",
       "          element.innerHTML = '';\n",
       "          dataTable['output_type'] = 'display_data';\n",
       "          await google.colab.output.renderOutput(dataTable, element);\n",
       "          const docLink = document.createElement('div');\n",
       "          docLink.innerHTML = docLinkHtml;\n",
       "          element.appendChild(docLink);\n",
       "        }\n",
       "      </script>\n",
       "    </div>\n",
       "  </div>\n",
       "  "
      ],
      "text/plain": [
       "                      event_time             order_id           product_id  \\\n",
       "2633511  2020-11-21 10:05:04 UTC  2388440981134693938  1515966223509088509   \n",
       "2633512  2020-11-21 10:06:01 UTC  2388440981134693939  1515966223509090132   \n",
       "2633513  2020-11-21 10:08:14 UTC  2388440981134693940  2273948246856434093   \n",
       "2633514  2020-11-21 10:08:54 UTC  2388440981134693941  1515966223519279912   \n",
       "2633515  2020-11-21 10:08:54 UTC  2388440981134693941  1515966223509088622   \n",
       "2633516  2020-11-21 10:10:01 UTC  2388440981134693942  1515966223526602848   \n",
       "2633517  2020-11-21 10:10:13 UTC  2388440981134693943  1515966223509089282   \n",
       "2633518  2020-11-21 10:10:30 UTC  2388440981134693944  1515966223509089917   \n",
       "2633519  2020-11-21 10:10:30 UTC  2388440981134693944  2273948184839454837   \n",
       "2633520  2020-11-21 10:10:30 UTC  2388440981134693944  1515966223509127566   \n",
       "\n",
       "          category_id                  category_code     brand       user_id  \\\n",
       "2633511  2.268105e+18         electronics.smartphone     apple  1.515916e+18   \n",
       "2633512  2.268105e+18  computers.peripherals.printer     canon  1.515916e+18   \n",
       "2633513  2.268105e+18                                   xiaomi  1.515916e+18   \n",
       "2633514  2.374499e+18           electronics.video.tv   samsung  1.515916e+18   \n",
       "2633515  2.374499e+18           electronics.video.tv        lg  1.515916e+18   \n",
       "2633516  2.268105e+18         electronics.smartphone      oppo  1.515916e+18   \n",
       "2633517  2.268105e+18         electronics.smartphone     apple  1.515916e+18   \n",
       "2633518  2.268105e+18     appliances.personal.scales     vitek  1.515916e+18   \n",
       "2633519  2.268105e+18                                 moulinex  1.515916e+18   \n",
       "2633520  2.268105e+18     appliances.kitchen.blender   redmond  1.515916e+18   \n",
       "\n",
       "           price  \n",
       "2633511   925.67  \n",
       "2633512   299.98  \n",
       "2633513    16.18  \n",
       "2633514  1736.09  \n",
       "2633515   370.35  \n",
       "2633516   138.87  \n",
       "2633517   418.96  \n",
       "2633518    12.48  \n",
       "2633519    41.64  \n",
       "2633520    53.22  "
      ]
     },
     "execution_count": 8,
     "metadata": {},
     "output_type": "execute_result"
    }
   ],
   "source": [
    "# Recover column\n",
    "data[\"price\"] = without\n",
    "data[-10:]"
   ]
  },
  {
   "cell_type": "markdown",
   "metadata": {
    "id": "GGWjhS5iMnCU"
   },
   "source": [
    "#### 5. Отсортируйте стоимость товаров по убыванию, выведите 7 дорогих товаров. Отсортируйте товары по возрастанию стоимости, выведите 7 дешевых товаров  (по choice_description)\n",
    "\n",
    "Для этого избавьтесь от дубликатов и отсортируйте товары. Не забудьте про количество товара."
   ]
  },
  {
   "cell_type": "code",
   "execution_count": 9,
   "metadata": {
    "colab": {
     "base_uri": "https://localhost:8080/",
     "height": 303
    },
    "id": "XFQUlnQDMnCU",
    "outputId": "2c4ba927-b7f5-4da7-dcd8-0b1db8854978"
   },
   "outputs": [
    {
     "name": "stderr",
     "output_type": "stream",
     "text": [
      "/usr/local/lib/python3.7/dist-packages/ipykernel_launcher.py:3: UserWarning: Boolean Series key will be reindexed to match DataFrame index.\n",
      "  This is separate from the ipykernel package so we can avoid doing imports until\n"
     ]
    },
    {
     "data": {
      "text/html": [
       "\n",
       "  <div id=\"df-37b97d35-0941-4ba5-85ed-46c56e4a25da\">\n",
       "    <div class=\"colab-df-container\">\n",
       "      <div>\n",
       "<style scoped>\n",
       "    .dataframe tbody tr th:only-of-type {\n",
       "        vertical-align: middle;\n",
       "    }\n",
       "\n",
       "    .dataframe tbody tr th {\n",
       "        vertical-align: top;\n",
       "    }\n",
       "\n",
       "    .dataframe thead th {\n",
       "        text-align: right;\n",
       "    }\n",
       "</style>\n",
       "<table border=\"1\" class=\"dataframe\">\n",
       "  <thead>\n",
       "    <tr style=\"text-align: right;\">\n",
       "      <th></th>\n",
       "      <th>event_time</th>\n",
       "      <th>order_id</th>\n",
       "      <th>product_id</th>\n",
       "      <th>category_id</th>\n",
       "      <th>category_code</th>\n",
       "      <th>brand</th>\n",
       "      <th>user_id</th>\n",
       "      <th>price</th>\n",
       "    </tr>\n",
       "  </thead>\n",
       "  <tbody>\n",
       "    <tr>\n",
       "      <th>8742</th>\n",
       "      <td>2020-05-14 09:09:41 UTC</td>\n",
       "      <td>2308774433587724743</td>\n",
       "      <td>1515966223509105377</td>\n",
       "      <td>2.268105e+18</td>\n",
       "      <td>electronics.smartphone</td>\n",
       "      <td>lg</td>\n",
       "      <td>1.515916e+18</td>\n",
       "      <td>9606.48</td>\n",
       "    </tr>\n",
       "    <tr>\n",
       "      <th>2270999</th>\n",
       "      <td>2020-09-16 06:46:10 UTC</td>\n",
       "      <td>2388440981134484484</td>\n",
       "      <td>1515966223520801280</td>\n",
       "      <td>2.374499e+18</td>\n",
       "      <td>electronics.video.tv</td>\n",
       "      <td>samsung</td>\n",
       "      <td>1.515916e+18</td>\n",
       "      <td>10416.64</td>\n",
       "    </tr>\n",
       "    <tr>\n",
       "      <th>1153319</th>\n",
       "      <td>2020-05-27 06:37:30 UTC</td>\n",
       "      <td>2353235498996073224</td>\n",
       "      <td>2273948305316643078</td>\n",
       "      <td>2.268105e+18</td>\n",
       "      <td>electronics.video.tv</td>\n",
       "      <td>lg</td>\n",
       "      <td>0.000000e+00</td>\n",
       "      <td>11574.05</td>\n",
       "    </tr>\n",
       "    <tr>\n",
       "      <th>1627981</th>\n",
       "      <td>2020-07-03 11:59:01 UTC</td>\n",
       "      <td>2353288509000777918</td>\n",
       "      <td>2273948305316643078</td>\n",
       "      <td>2.268105e+18</td>\n",
       "      <td>electronics.video.tv</td>\n",
       "      <td>lg</td>\n",
       "      <td>1.515916e+18</td>\n",
       "      <td>11574.05</td>\n",
       "    </tr>\n",
       "    <tr>\n",
       "      <th>28623</th>\n",
       "      <td>2020-06-26 09:10:44 UTC</td>\n",
       "      <td>2339940319191106553</td>\n",
       "      <td>1515966223509566954</td>\n",
       "      <td>2.374499e+18</td>\n",
       "      <td>electronics.video.tv</td>\n",
       "      <td>none</td>\n",
       "      <td>1.515916e+18</td>\n",
       "      <td>13310.16</td>\n",
       "    </tr>\n",
       "    <tr>\n",
       "      <th>28182</th>\n",
       "      <td>2020-06-25 10:08:37 UTC</td>\n",
       "      <td>2339244674033647628</td>\n",
       "      <td>1515966223509131884</td>\n",
       "      <td>2.374499e+18</td>\n",
       "      <td>electronics.video.tv</td>\n",
       "      <td>none</td>\n",
       "      <td>1.515916e+18</td>\n",
       "      <td>18328.68</td>\n",
       "    </tr>\n",
       "    <tr>\n",
       "      <th>1144303</th>\n",
       "      <td>2020-05-26 08:12:38 UTC</td>\n",
       "      <td>2353234364520727464</td>\n",
       "      <td>1515966223509105016</td>\n",
       "      <td>2.374499e+18</td>\n",
       "      <td>electronics.video.tv</td>\n",
       "      <td>samsung</td>\n",
       "      <td>0.000000e+00</td>\n",
       "      <td>50925.90</td>\n",
       "    </tr>\n",
       "  </tbody>\n",
       "</table>\n",
       "</div>\n",
       "      <button class=\"colab-df-convert\" onclick=\"convertToInteractive('df-37b97d35-0941-4ba5-85ed-46c56e4a25da')\"\n",
       "              title=\"Convert this dataframe to an interactive table.\"\n",
       "              style=\"display:none;\">\n",
       "        \n",
       "  <svg xmlns=\"http://www.w3.org/2000/svg\" height=\"24px\"viewBox=\"0 0 24 24\"\n",
       "       width=\"24px\">\n",
       "    <path d=\"M0 0h24v24H0V0z\" fill=\"none\"/>\n",
       "    <path d=\"M18.56 5.44l.94 2.06.94-2.06 2.06-.94-2.06-.94-.94-2.06-.94 2.06-2.06.94zm-11 1L8.5 8.5l.94-2.06 2.06-.94-2.06-.94L8.5 2.5l-.94 2.06-2.06.94zm10 10l.94 2.06.94-2.06 2.06-.94-2.06-.94-.94-2.06-.94 2.06-2.06.94z\"/><path d=\"M17.41 7.96l-1.37-1.37c-.4-.4-.92-.59-1.43-.59-.52 0-1.04.2-1.43.59L10.3 9.45l-7.72 7.72c-.78.78-.78 2.05 0 2.83L4 21.41c.39.39.9.59 1.41.59.51 0 1.02-.2 1.41-.59l7.78-7.78 2.81-2.81c.8-.78.8-2.07 0-2.86zM5.41 20L4 18.59l7.72-7.72 1.47 1.35L5.41 20z\"/>\n",
       "  </svg>\n",
       "      </button>\n",
       "      \n",
       "  <style>\n",
       "    .colab-df-container {\n",
       "      display:flex;\n",
       "      flex-wrap:wrap;\n",
       "      gap: 12px;\n",
       "    }\n",
       "\n",
       "    .colab-df-convert {\n",
       "      background-color: #E8F0FE;\n",
       "      border: none;\n",
       "      border-radius: 50%;\n",
       "      cursor: pointer;\n",
       "      display: none;\n",
       "      fill: #1967D2;\n",
       "      height: 32px;\n",
       "      padding: 0 0 0 0;\n",
       "      width: 32px;\n",
       "    }\n",
       "\n",
       "    .colab-df-convert:hover {\n",
       "      background-color: #E2EBFA;\n",
       "      box-shadow: 0px 1px 2px rgba(60, 64, 67, 0.3), 0px 1px 3px 1px rgba(60, 64, 67, 0.15);\n",
       "      fill: #174EA6;\n",
       "    }\n",
       "\n",
       "    [theme=dark] .colab-df-convert {\n",
       "      background-color: #3B4455;\n",
       "      fill: #D2E3FC;\n",
       "    }\n",
       "\n",
       "    [theme=dark] .colab-df-convert:hover {\n",
       "      background-color: #434B5C;\n",
       "      box-shadow: 0px 1px 3px 1px rgba(0, 0, 0, 0.15);\n",
       "      filter: drop-shadow(0px 1px 2px rgba(0, 0, 0, 0.3));\n",
       "      fill: #FFFFFF;\n",
       "    }\n",
       "  </style>\n",
       "\n",
       "      <script>\n",
       "        const buttonEl =\n",
       "          document.querySelector('#df-37b97d35-0941-4ba5-85ed-46c56e4a25da button.colab-df-convert');\n",
       "        buttonEl.style.display =\n",
       "          google.colab.kernel.accessAllowed ? 'block' : 'none';\n",
       "\n",
       "        async function convertToInteractive(key) {\n",
       "          const element = document.querySelector('#df-37b97d35-0941-4ba5-85ed-46c56e4a25da');\n",
       "          const dataTable =\n",
       "            await google.colab.kernel.invokeFunction('convertToInteractive',\n",
       "                                                     [key], {});\n",
       "          if (!dataTable) return;\n",
       "\n",
       "          const docLinkHtml = 'Like what you see? Visit the ' +\n",
       "            '<a target=\"_blank\" href=https://colab.research.google.com/notebooks/data_table.ipynb>data table notebook</a>'\n",
       "            + ' to learn more about interactive tables.';\n",
       "          element.innerHTML = '';\n",
       "          dataTable['output_type'] = 'display_data';\n",
       "          await google.colab.output.renderOutput(dataTable, element);\n",
       "          const docLink = document.createElement('div');\n",
       "          docLink.innerHTML = docLinkHtml;\n",
       "          element.appendChild(docLink);\n",
       "        }\n",
       "      </script>\n",
       "    </div>\n",
       "  </div>\n",
       "  "
      ],
      "text/plain": [
       "                      event_time             order_id           product_id  \\\n",
       "8742     2020-05-14 09:09:41 UTC  2308774433587724743  1515966223509105377   \n",
       "2270999  2020-09-16 06:46:10 UTC  2388440981134484484  1515966223520801280   \n",
       "1153319  2020-05-27 06:37:30 UTC  2353235498996073224  2273948305316643078   \n",
       "1627981  2020-07-03 11:59:01 UTC  2353288509000777918  2273948305316643078   \n",
       "28623    2020-06-26 09:10:44 UTC  2339940319191106553  1515966223509566954   \n",
       "28182    2020-06-25 10:08:37 UTC  2339244674033647628  1515966223509131884   \n",
       "1144303  2020-05-26 08:12:38 UTC  2353234364520727464  1515966223509105016   \n",
       "\n",
       "          category_id           category_code    brand       user_id     price  \n",
       "8742     2.268105e+18  electronics.smartphone       lg  1.515916e+18   9606.48  \n",
       "2270999  2.374499e+18    electronics.video.tv  samsung  1.515916e+18  10416.64  \n",
       "1153319  2.268105e+18    electronics.video.tv       lg  0.000000e+00  11574.05  \n",
       "1627981  2.268105e+18    electronics.video.tv       lg  1.515916e+18  11574.05  \n",
       "28623    2.374499e+18    electronics.video.tv     none  1.515916e+18  13310.16  \n",
       "28182    2.374499e+18    electronics.video.tv     none  1.515916e+18  18328.68  \n",
       "1144303  2.374499e+18    electronics.video.tv  samsung  0.000000e+00  50925.90  "
      ]
     },
     "execution_count": 9,
     "metadata": {},
     "output_type": "execute_result"
    }
   ],
   "source": [
    "# Most high price\n",
    "data = data.sort_values(\"price\")\n",
    "data[data[\"category_code\"] != \"\"][data[\"brand\"] != \"\"][-7:]"
   ]
  },
  {
   "cell_type": "code",
   "execution_count": 10,
   "metadata": {
    "colab": {
     "base_uri": "https://localhost:8080/",
     "height": 303
    },
    "id": "Qz5lqvTulMFH",
    "outputId": "6390bc0a-df45-474b-fcab-e36d27569cee"
   },
   "outputs": [
    {
     "name": "stderr",
     "output_type": "stream",
     "text": [
      "/usr/local/lib/python3.7/dist-packages/ipykernel_launcher.py:3: UserWarning: Boolean Series key will be reindexed to match DataFrame index.\n",
      "  This is separate from the ipykernel package so we can avoid doing imports until\n"
     ]
    },
    {
     "data": {
      "text/html": [
       "\n",
       "  <div id=\"df-a24ba054-9303-4759-98e3-663b7e0a6962\">\n",
       "    <div class=\"colab-df-container\">\n",
       "      <div>\n",
       "<style scoped>\n",
       "    .dataframe tbody tr th:only-of-type {\n",
       "        vertical-align: middle;\n",
       "    }\n",
       "\n",
       "    .dataframe tbody tr th {\n",
       "        vertical-align: top;\n",
       "    }\n",
       "\n",
       "    .dataframe thead th {\n",
       "        text-align: right;\n",
       "    }\n",
       "</style>\n",
       "<table border=\"1\" class=\"dataframe\">\n",
       "  <thead>\n",
       "    <tr style=\"text-align: right;\">\n",
       "      <th></th>\n",
       "      <th>event_time</th>\n",
       "      <th>order_id</th>\n",
       "      <th>product_id</th>\n",
       "      <th>category_id</th>\n",
       "      <th>category_code</th>\n",
       "      <th>brand</th>\n",
       "      <th>user_id</th>\n",
       "      <th>price</th>\n",
       "    </tr>\n",
       "  </thead>\n",
       "  <tbody>\n",
       "    <tr>\n",
       "      <th>1805277</th>\n",
       "      <td>2020-08-05 10:38:31 UTC</td>\n",
       "      <td>2369353908226097685</td>\n",
       "      <td>1515966223509261546</td>\n",
       "      <td>2.268105e+18</td>\n",
       "      <td>kids.dolls</td>\n",
       "      <td>x-cooler</td>\n",
       "      <td>0.000000e+00</td>\n",
       "      <td>0.21</td>\n",
       "    </tr>\n",
       "    <tr>\n",
       "      <th>2500891</th>\n",
       "      <td>2020-10-17 11:15:17 UTC</td>\n",
       "      <td>2388440981134614758</td>\n",
       "      <td>2309018259887751600</td>\n",
       "      <td>2.268106e+18</td>\n",
       "      <td>apparel.glove</td>\n",
       "      <td>rossija</td>\n",
       "      <td>1.515916e+18</td>\n",
       "      <td>0.21</td>\n",
       "    </tr>\n",
       "    <tr>\n",
       "      <th>2519892</th>\n",
       "      <td>2020-10-22 08:22:08 UTC</td>\n",
       "      <td>2388440981134626482</td>\n",
       "      <td>1515966223509261546</td>\n",
       "      <td>2.268105e+18</td>\n",
       "      <td>kids.dolls</td>\n",
       "      <td>x-cooler</td>\n",
       "      <td>1.515916e+18</td>\n",
       "      <td>0.21</td>\n",
       "    </tr>\n",
       "    <tr>\n",
       "      <th>2542318</th>\n",
       "      <td>2020-10-28 14:50:17 UTC</td>\n",
       "      <td>2388440981134640365</td>\n",
       "      <td>1515966223509261546</td>\n",
       "      <td>2.268105e+18</td>\n",
       "      <td>kids.dolls</td>\n",
       "      <td>x-cooler</td>\n",
       "      <td>1.515916e+18</td>\n",
       "      <td>0.21</td>\n",
       "    </tr>\n",
       "    <tr>\n",
       "      <th>2470715</th>\n",
       "      <td>2020-10-09 11:17:39 UTC</td>\n",
       "      <td>2388440981134595824</td>\n",
       "      <td>1515966223509261546</td>\n",
       "      <td>2.268105e+18</td>\n",
       "      <td>kids.dolls</td>\n",
       "      <td>x-cooler</td>\n",
       "      <td>1.515916e+18</td>\n",
       "      <td>0.21</td>\n",
       "    </tr>\n",
       "    <tr>\n",
       "      <th>2559503</th>\n",
       "      <td>2020-11-02 13:23:11 UTC</td>\n",
       "      <td>2388440981134650325</td>\n",
       "      <td>2309018259887751602</td>\n",
       "      <td>2.268106e+18</td>\n",
       "      <td>apparel.glove</td>\n",
       "      <td>rossija</td>\n",
       "      <td>1.515916e+18</td>\n",
       "      <td>0.21</td>\n",
       "    </tr>\n",
       "    <tr>\n",
       "      <th>7468</th>\n",
       "      <td>2020-05-12 10:53:34 UTC</td>\n",
       "      <td>2307377169208181572</td>\n",
       "      <td>1515966223510032494</td>\n",
       "      <td>2.268105e+18</td>\n",
       "      <td>computers.notebook</td>\n",
       "      <td>none</td>\n",
       "      <td>1.515916e+18</td>\n",
       "      <td>0.02</td>\n",
       "    </tr>\n",
       "  </tbody>\n",
       "</table>\n",
       "</div>\n",
       "      <button class=\"colab-df-convert\" onclick=\"convertToInteractive('df-a24ba054-9303-4759-98e3-663b7e0a6962')\"\n",
       "              title=\"Convert this dataframe to an interactive table.\"\n",
       "              style=\"display:none;\">\n",
       "        \n",
       "  <svg xmlns=\"http://www.w3.org/2000/svg\" height=\"24px\"viewBox=\"0 0 24 24\"\n",
       "       width=\"24px\">\n",
       "    <path d=\"M0 0h24v24H0V0z\" fill=\"none\"/>\n",
       "    <path d=\"M18.56 5.44l.94 2.06.94-2.06 2.06-.94-2.06-.94-.94-2.06-.94 2.06-2.06.94zm-11 1L8.5 8.5l.94-2.06 2.06-.94-2.06-.94L8.5 2.5l-.94 2.06-2.06.94zm10 10l.94 2.06.94-2.06 2.06-.94-2.06-.94-.94-2.06-.94 2.06-2.06.94z\"/><path d=\"M17.41 7.96l-1.37-1.37c-.4-.4-.92-.59-1.43-.59-.52 0-1.04.2-1.43.59L10.3 9.45l-7.72 7.72c-.78.78-.78 2.05 0 2.83L4 21.41c.39.39.9.59 1.41.59.51 0 1.02-.2 1.41-.59l7.78-7.78 2.81-2.81c.8-.78.8-2.07 0-2.86zM5.41 20L4 18.59l7.72-7.72 1.47 1.35L5.41 20z\"/>\n",
       "  </svg>\n",
       "      </button>\n",
       "      \n",
       "  <style>\n",
       "    .colab-df-container {\n",
       "      display:flex;\n",
       "      flex-wrap:wrap;\n",
       "      gap: 12px;\n",
       "    }\n",
       "\n",
       "    .colab-df-convert {\n",
       "      background-color: #E8F0FE;\n",
       "      border: none;\n",
       "      border-radius: 50%;\n",
       "      cursor: pointer;\n",
       "      display: none;\n",
       "      fill: #1967D2;\n",
       "      height: 32px;\n",
       "      padding: 0 0 0 0;\n",
       "      width: 32px;\n",
       "    }\n",
       "\n",
       "    .colab-df-convert:hover {\n",
       "      background-color: #E2EBFA;\n",
       "      box-shadow: 0px 1px 2px rgba(60, 64, 67, 0.3), 0px 1px 3px 1px rgba(60, 64, 67, 0.15);\n",
       "      fill: #174EA6;\n",
       "    }\n",
       "\n",
       "    [theme=dark] .colab-df-convert {\n",
       "      background-color: #3B4455;\n",
       "      fill: #D2E3FC;\n",
       "    }\n",
       "\n",
       "    [theme=dark] .colab-df-convert:hover {\n",
       "      background-color: #434B5C;\n",
       "      box-shadow: 0px 1px 3px 1px rgba(0, 0, 0, 0.15);\n",
       "      filter: drop-shadow(0px 1px 2px rgba(0, 0, 0, 0.3));\n",
       "      fill: #FFFFFF;\n",
       "    }\n",
       "  </style>\n",
       "\n",
       "      <script>\n",
       "        const buttonEl =\n",
       "          document.querySelector('#df-a24ba054-9303-4759-98e3-663b7e0a6962 button.colab-df-convert');\n",
       "        buttonEl.style.display =\n",
       "          google.colab.kernel.accessAllowed ? 'block' : 'none';\n",
       "\n",
       "        async function convertToInteractive(key) {\n",
       "          const element = document.querySelector('#df-a24ba054-9303-4759-98e3-663b7e0a6962');\n",
       "          const dataTable =\n",
       "            await google.colab.kernel.invokeFunction('convertToInteractive',\n",
       "                                                     [key], {});\n",
       "          if (!dataTable) return;\n",
       "\n",
       "          const docLinkHtml = 'Like what you see? Visit the ' +\n",
       "            '<a target=\"_blank\" href=https://colab.research.google.com/notebooks/data_table.ipynb>data table notebook</a>'\n",
       "            + ' to learn more about interactive tables.';\n",
       "          element.innerHTML = '';\n",
       "          dataTable['output_type'] = 'display_data';\n",
       "          await google.colab.output.renderOutput(dataTable, element);\n",
       "          const docLink = document.createElement('div');\n",
       "          docLink.innerHTML = docLinkHtml;\n",
       "          element.appendChild(docLink);\n",
       "        }\n",
       "      </script>\n",
       "    </div>\n",
       "  </div>\n",
       "  "
      ],
      "text/plain": [
       "                      event_time             order_id           product_id  \\\n",
       "1805277  2020-08-05 10:38:31 UTC  2369353908226097685  1515966223509261546   \n",
       "2500891  2020-10-17 11:15:17 UTC  2388440981134614758  2309018259887751600   \n",
       "2519892  2020-10-22 08:22:08 UTC  2388440981134626482  1515966223509261546   \n",
       "2542318  2020-10-28 14:50:17 UTC  2388440981134640365  1515966223509261546   \n",
       "2470715  2020-10-09 11:17:39 UTC  2388440981134595824  1515966223509261546   \n",
       "2559503  2020-11-02 13:23:11 UTC  2388440981134650325  2309018259887751602   \n",
       "7468     2020-05-12 10:53:34 UTC  2307377169208181572  1515966223510032494   \n",
       "\n",
       "          category_id       category_code     brand       user_id  price  \n",
       "1805277  2.268105e+18          kids.dolls  x-cooler  0.000000e+00   0.21  \n",
       "2500891  2.268106e+18       apparel.glove   rossija  1.515916e+18   0.21  \n",
       "2519892  2.268105e+18          kids.dolls  x-cooler  1.515916e+18   0.21  \n",
       "2542318  2.268105e+18          kids.dolls  x-cooler  1.515916e+18   0.21  \n",
       "2470715  2.268105e+18          kids.dolls  x-cooler  1.515916e+18   0.21  \n",
       "2559503  2.268106e+18       apparel.glove   rossija  1.515916e+18   0.21  \n",
       "7468     2.268105e+18  computers.notebook      none  1.515916e+18   0.02  "
      ]
     },
     "execution_count": 10,
     "metadata": {},
     "output_type": "execute_result"
    }
   ],
   "source": [
    "# Most low price\n",
    "data = data.sort_values(\"price\", ascending=False)\n",
    "data[data[\"category_code\"] != \"\"][data[\"brand\"] != \"\"][data[\"price\"] != 0][-7:]"
   ]
  },
  {
   "cell_type": "markdown",
   "metadata": {
    "id": "1MNLjbjIMnCV"
   },
   "source": [
    "#### 6. Выведите информацию о том, сколько раз клиенты покупали больше 1 товара apple (brand)?"
   ]
  },
  {
   "cell_type": "code",
   "execution_count": 11,
   "metadata": {
    "colab": {
     "base_uri": "https://localhost:8080/"
    },
    "id": "A_gWCSOsMnCV",
    "outputId": "c8e178f9-e796-43f2-8047-67c8c91fa6ab"
   },
   "outputs": [
    {
     "name": "stdout",
     "output_type": "stream",
     "text": [
      "Total:  7140\n"
     ]
    }
   ],
   "source": [
    "apple = data[data[\"brand\"] == \"apple\"]\n",
    "apple = apple[apple[\"user_id\"] != 0]\n",
    "apple = apple.groupby([\"user_id\"]).count()\n",
    "print(\"Total: \", len(apple[apple[\"category_code\"] > 1]))"
   ]
  },
  {
   "cell_type": "markdown",
   "metadata": {
    "id": "edJ6RmjyMnCW"
   },
   "source": [
    "#### 7. Выведите информацию о среднем чеке у заказа и сколько в среднем товаров покупают?\n",
    "\n",
    "Если необходимо провести вычисления в терминах заказов, то будет удобно сгруппировать строки по заказам и посчитать необходимые значения."
   ]
  },
  {
   "cell_type": "code",
   "execution_count": 12,
   "metadata": {
    "colab": {
     "base_uri": "https://localhost:8080/"
    },
    "id": "sern9NgCMnCW",
    "outputId": "0034d581-36c3-4069-873b-69d6b9140a65"
   },
   "outputs": [
    {
     "name": "stdout",
     "output_type": "stream",
     "text": [
      "Mean check sum: 236.36484645343074\n"
     ]
    }
   ],
   "source": [
    "# Mean check sum\n",
    "check_sum = data.groupby([\"order_id\"]).sum()\n",
    "check_sum.pop(\"product_id\"); check_sum.pop(\"category_id\"); check_sum.pop(\"user_id\");\n",
    "print(\"Mean check sum:\", check_sum[\"price\"].mean())"
   ]
  },
  {
   "cell_type": "code",
   "execution_count": 13,
   "metadata": {
    "colab": {
     "base_uri": "https://localhost:8080/"
    },
    "id": "Fdt34ZnF98x8",
    "outputId": "23ff218d-4a09-4d8c-9406-b8aeafabbda1"
   },
   "outputs": [
    {
     "name": "stdout",
     "output_type": "stream",
     "text": [
      "Mean check count: 1.8348661502467138\n"
     ]
    }
   ],
   "source": [
    "# Mean check count\n",
    "check_count = data.groupby([\"order_id\"]).count()\n",
    "check_count.pop(\"price\"); check_count.pop(\"category_id\"); check_count.pop(\"user_id\");\n",
    "print(\"Mean check count:\", check_count[\"product_id\"].mean())"
   ]
  },
  {
   "cell_type": "markdown",
   "metadata": {
    "id": "tdyG8HwMMnCW"
   },
   "source": [
    "#### 8. Выведите количество заказов с 1 товаром."
   ]
  },
  {
   "cell_type": "code",
   "execution_count": 14,
   "metadata": {
    "colab": {
     "base_uri": "https://localhost:8080/"
    },
    "id": "QgftVhYzMnCX",
    "outputId": "e44c4274-f7fe-4f17-93f4-fcf95927ded2"
   },
   "outputs": [
    {
     "name": "stdout",
     "output_type": "stream",
     "text": [
      "Orders with 1 product: 871751\n"
     ]
    }
   ],
   "source": [
    "# Orders with one product\n",
    "print(\"Orders with 1 product:\", len(check_count[check_count[\"product_id\"] == 1]))"
   ]
  },
  {
   "cell_type": "markdown",
   "metadata": {
    "id": "yllFuxj9MnCX"
   },
   "source": [
    "#### 9. Выведите самую популярную категорию товара."
   ]
  },
  {
   "cell_type": "code",
   "execution_count": 15,
   "metadata": {
    "colab": {
     "base_uri": "https://localhost:8080/",
     "height": 112
    },
    "id": "59q8fjVbMnCX",
    "outputId": "06201bf6-12c7-4512-f53e-59de743e599f"
   },
   "outputs": [
    {
     "data": {
      "text/html": [
       "\n",
       "  <div id=\"df-3ae93cb7-37e2-435f-953f-245dbdeed8ed\">\n",
       "    <div class=\"colab-df-container\">\n",
       "      <div>\n",
       "<style scoped>\n",
       "    .dataframe tbody tr th:only-of-type {\n",
       "        vertical-align: middle;\n",
       "    }\n",
       "\n",
       "    .dataframe tbody tr th {\n",
       "        vertical-align: top;\n",
       "    }\n",
       "\n",
       "    .dataframe thead th {\n",
       "        text-align: right;\n",
       "    }\n",
       "</style>\n",
       "<table border=\"1\" class=\"dataframe\">\n",
       "  <thead>\n",
       "    <tr style=\"text-align: right;\">\n",
       "      <th></th>\n",
       "      <th>product_id</th>\n",
       "    </tr>\n",
       "    <tr>\n",
       "      <th>category_code</th>\n",
       "      <th></th>\n",
       "    </tr>\n",
       "  </thead>\n",
       "  <tbody>\n",
       "    <tr>\n",
       "      <th>electronics.smartphone</th>\n",
       "      <td>357682</td>\n",
       "    </tr>\n",
       "  </tbody>\n",
       "</table>\n",
       "</div>\n",
       "      <button class=\"colab-df-convert\" onclick=\"convertToInteractive('df-3ae93cb7-37e2-435f-953f-245dbdeed8ed')\"\n",
       "              title=\"Convert this dataframe to an interactive table.\"\n",
       "              style=\"display:none;\">\n",
       "        \n",
       "  <svg xmlns=\"http://www.w3.org/2000/svg\" height=\"24px\"viewBox=\"0 0 24 24\"\n",
       "       width=\"24px\">\n",
       "    <path d=\"M0 0h24v24H0V0z\" fill=\"none\"/>\n",
       "    <path d=\"M18.56 5.44l.94 2.06.94-2.06 2.06-.94-2.06-.94-.94-2.06-.94 2.06-2.06.94zm-11 1L8.5 8.5l.94-2.06 2.06-.94-2.06-.94L8.5 2.5l-.94 2.06-2.06.94zm10 10l.94 2.06.94-2.06 2.06-.94-2.06-.94-.94-2.06-.94 2.06-2.06.94z\"/><path d=\"M17.41 7.96l-1.37-1.37c-.4-.4-.92-.59-1.43-.59-.52 0-1.04.2-1.43.59L10.3 9.45l-7.72 7.72c-.78.78-.78 2.05 0 2.83L4 21.41c.39.39.9.59 1.41.59.51 0 1.02-.2 1.41-.59l7.78-7.78 2.81-2.81c.8-.78.8-2.07 0-2.86zM5.41 20L4 18.59l7.72-7.72 1.47 1.35L5.41 20z\"/>\n",
       "  </svg>\n",
       "      </button>\n",
       "      \n",
       "  <style>\n",
       "    .colab-df-container {\n",
       "      display:flex;\n",
       "      flex-wrap:wrap;\n",
       "      gap: 12px;\n",
       "    }\n",
       "\n",
       "    .colab-df-convert {\n",
       "      background-color: #E8F0FE;\n",
       "      border: none;\n",
       "      border-radius: 50%;\n",
       "      cursor: pointer;\n",
       "      display: none;\n",
       "      fill: #1967D2;\n",
       "      height: 32px;\n",
       "      padding: 0 0 0 0;\n",
       "      width: 32px;\n",
       "    }\n",
       "\n",
       "    .colab-df-convert:hover {\n",
       "      background-color: #E2EBFA;\n",
       "      box-shadow: 0px 1px 2px rgba(60, 64, 67, 0.3), 0px 1px 3px 1px rgba(60, 64, 67, 0.15);\n",
       "      fill: #174EA6;\n",
       "    }\n",
       "\n",
       "    [theme=dark] .colab-df-convert {\n",
       "      background-color: #3B4455;\n",
       "      fill: #D2E3FC;\n",
       "    }\n",
       "\n",
       "    [theme=dark] .colab-df-convert:hover {\n",
       "      background-color: #434B5C;\n",
       "      box-shadow: 0px 1px 3px 1px rgba(0, 0, 0, 0.15);\n",
       "      filter: drop-shadow(0px 1px 2px rgba(0, 0, 0, 0.3));\n",
       "      fill: #FFFFFF;\n",
       "    }\n",
       "  </style>\n",
       "\n",
       "      <script>\n",
       "        const buttonEl =\n",
       "          document.querySelector('#df-3ae93cb7-37e2-435f-953f-245dbdeed8ed button.colab-df-convert');\n",
       "        buttonEl.style.display =\n",
       "          google.colab.kernel.accessAllowed ? 'block' : 'none';\n",
       "\n",
       "        async function convertToInteractive(key) {\n",
       "          const element = document.querySelector('#df-3ae93cb7-37e2-435f-953f-245dbdeed8ed');\n",
       "          const dataTable =\n",
       "            await google.colab.kernel.invokeFunction('convertToInteractive',\n",
       "                                                     [key], {});\n",
       "          if (!dataTable) return;\n",
       "\n",
       "          const docLinkHtml = 'Like what you see? Visit the ' +\n",
       "            '<a target=\"_blank\" href=https://colab.research.google.com/notebooks/data_table.ipynb>data table notebook</a>'\n",
       "            + ' to learn more about interactive tables.';\n",
       "          element.innerHTML = '';\n",
       "          dataTable['output_type'] = 'display_data';\n",
       "          await google.colab.output.renderOutput(dataTable, element);\n",
       "          const docLink = document.createElement('div');\n",
       "          docLink.innerHTML = docLinkHtml;\n",
       "          element.appendChild(docLink);\n",
       "        }\n",
       "      </script>\n",
       "    </div>\n",
       "  </div>\n",
       "  "
      ],
      "text/plain": [
       "                        product_id\n",
       "category_code                     \n",
       "electronics.smartphone      357682"
      ]
     },
     "execution_count": 15,
     "metadata": {},
     "output_type": "execute_result"
    }
   ],
   "source": [
    "# Most popular product category\n",
    "category_count = data[data[\"category_code\"] != \"\"].groupby([\"category_code\"]).count()\n",
    "category_count.pop(\"price\"); category_count.pop(\"order_id\"); \n",
    "category_count.pop(\"user_id\"); category_count.pop(\"category_id\");\n",
    "category_count.pop(\"event_time\"); category_count.pop(\"brand\");\n",
    "category_count = category_count.sort_values(\"product_id\")\n",
    "category_count[-1:]"
   ]
  },
  {
   "cell_type": "markdown",
   "metadata": {
    "id": "1vNJCwcmMnCY"
   },
   "source": [
    "#### 10. Выведите виды товаров Apple. Какой из них чаще всего покупают? Какой из них самый дорогой? "
   ]
  },
  {
   "cell_type": "code",
   "execution_count": 16,
   "metadata": {
    "colab": {
     "base_uri": "https://localhost:8080/",
     "height": 426
    },
    "id": "YVTe91zyMnCY",
    "outputId": "12b7ce5e-c739-491f-ac88-e657d56c4b6b"
   },
   "outputs": [
    {
     "data": {
      "text/html": [
       "\n",
       "  <div id=\"df-9fe94878-e83d-420a-a724-0bcdc842512e\">\n",
       "    <div class=\"colab-df-container\">\n",
       "      <div>\n",
       "<style scoped>\n",
       "    .dataframe tbody tr th:only-of-type {\n",
       "        vertical-align: middle;\n",
       "    }\n",
       "\n",
       "    .dataframe tbody tr th {\n",
       "        vertical-align: top;\n",
       "    }\n",
       "\n",
       "    .dataframe thead th {\n",
       "        text-align: right;\n",
       "    }\n",
       "</style>\n",
       "<table border=\"1\" class=\"dataframe\">\n",
       "  <thead>\n",
       "    <tr style=\"text-align: right;\">\n",
       "      <th></th>\n",
       "      <th>event_time</th>\n",
       "      <th>order_id</th>\n",
       "      <th>product_id</th>\n",
       "      <th>category_id</th>\n",
       "      <th>brand</th>\n",
       "      <th>user_id</th>\n",
       "      <th>price</th>\n",
       "    </tr>\n",
       "    <tr>\n",
       "      <th>category_code</th>\n",
       "      <th></th>\n",
       "      <th></th>\n",
       "      <th></th>\n",
       "      <th></th>\n",
       "      <th></th>\n",
       "      <th></th>\n",
       "      <th></th>\n",
       "    </tr>\n",
       "  </thead>\n",
       "  <tbody>\n",
       "    <tr>\n",
       "      <th>computers.components.cooler</th>\n",
       "      <td>217</td>\n",
       "      <td>217</td>\n",
       "      <td>217</td>\n",
       "      <td>217</td>\n",
       "      <td>217</td>\n",
       "      <td>217</td>\n",
       "      <td>217</td>\n",
       "    </tr>\n",
       "    <tr>\n",
       "      <th>computers.components.hdd</th>\n",
       "      <td>725</td>\n",
       "      <td>725</td>\n",
       "      <td>725</td>\n",
       "      <td>725</td>\n",
       "      <td>725</td>\n",
       "      <td>725</td>\n",
       "      <td>725</td>\n",
       "    </tr>\n",
       "    <tr>\n",
       "      <th>computers.desktop</th>\n",
       "      <td>174</td>\n",
       "      <td>174</td>\n",
       "      <td>174</td>\n",
       "      <td>174</td>\n",
       "      <td>174</td>\n",
       "      <td>174</td>\n",
       "      <td>174</td>\n",
       "    </tr>\n",
       "    <tr>\n",
       "      <th>computers.notebook</th>\n",
       "      <td>3922</td>\n",
       "      <td>3922</td>\n",
       "      <td>3922</td>\n",
       "      <td>3922</td>\n",
       "      <td>3922</td>\n",
       "      <td>3922</td>\n",
       "      <td>3922</td>\n",
       "    </tr>\n",
       "    <tr>\n",
       "      <th>computers.peripherals.keyboard</th>\n",
       "      <td>127</td>\n",
       "      <td>127</td>\n",
       "      <td>127</td>\n",
       "      <td>127</td>\n",
       "      <td>127</td>\n",
       "      <td>127</td>\n",
       "      <td>127</td>\n",
       "    </tr>\n",
       "    <tr>\n",
       "      <th>computers.peripherals.mouse</th>\n",
       "      <td>256</td>\n",
       "      <td>256</td>\n",
       "      <td>256</td>\n",
       "      <td>256</td>\n",
       "      <td>256</td>\n",
       "      <td>256</td>\n",
       "      <td>256</td>\n",
       "    </tr>\n",
       "    <tr>\n",
       "      <th>construction.tools.screw</th>\n",
       "      <td>1254</td>\n",
       "      <td>1254</td>\n",
       "      <td>1254</td>\n",
       "      <td>1254</td>\n",
       "      <td>1254</td>\n",
       "      <td>1254</td>\n",
       "      <td>1254</td>\n",
       "    </tr>\n",
       "    <tr>\n",
       "      <th>electronics.audio.headphone</th>\n",
       "      <td>9568</td>\n",
       "      <td>9568</td>\n",
       "      <td>9568</td>\n",
       "      <td>9568</td>\n",
       "      <td>9568</td>\n",
       "      <td>9568</td>\n",
       "      <td>9568</td>\n",
       "    </tr>\n",
       "    <tr>\n",
       "      <th>electronics.clocks</th>\n",
       "      <td>5799</td>\n",
       "      <td>5799</td>\n",
       "      <td>5799</td>\n",
       "      <td>5799</td>\n",
       "      <td>5799</td>\n",
       "      <td>5799</td>\n",
       "      <td>5799</td>\n",
       "    </tr>\n",
       "    <tr>\n",
       "      <th>electronics.smartphone</th>\n",
       "      <td>46030</td>\n",
       "      <td>46030</td>\n",
       "      <td>46030</td>\n",
       "      <td>46030</td>\n",
       "      <td>46030</td>\n",
       "      <td>46030</td>\n",
       "      <td>46030</td>\n",
       "    </tr>\n",
       "    <tr>\n",
       "      <th>electronics.tablet</th>\n",
       "      <td>2578</td>\n",
       "      <td>2578</td>\n",
       "      <td>2578</td>\n",
       "      <td>2578</td>\n",
       "      <td>2578</td>\n",
       "      <td>2578</td>\n",
       "      <td>2578</td>\n",
       "    </tr>\n",
       "  </tbody>\n",
       "</table>\n",
       "</div>\n",
       "      <button class=\"colab-df-convert\" onclick=\"convertToInteractive('df-9fe94878-e83d-420a-a724-0bcdc842512e')\"\n",
       "              title=\"Convert this dataframe to an interactive table.\"\n",
       "              style=\"display:none;\">\n",
       "        \n",
       "  <svg xmlns=\"http://www.w3.org/2000/svg\" height=\"24px\"viewBox=\"0 0 24 24\"\n",
       "       width=\"24px\">\n",
       "    <path d=\"M0 0h24v24H0V0z\" fill=\"none\"/>\n",
       "    <path d=\"M18.56 5.44l.94 2.06.94-2.06 2.06-.94-2.06-.94-.94-2.06-.94 2.06-2.06.94zm-11 1L8.5 8.5l.94-2.06 2.06-.94-2.06-.94L8.5 2.5l-.94 2.06-2.06.94zm10 10l.94 2.06.94-2.06 2.06-.94-2.06-.94-.94-2.06-.94 2.06-2.06.94z\"/><path d=\"M17.41 7.96l-1.37-1.37c-.4-.4-.92-.59-1.43-.59-.52 0-1.04.2-1.43.59L10.3 9.45l-7.72 7.72c-.78.78-.78 2.05 0 2.83L4 21.41c.39.39.9.59 1.41.59.51 0 1.02-.2 1.41-.59l7.78-7.78 2.81-2.81c.8-.78.8-2.07 0-2.86zM5.41 20L4 18.59l7.72-7.72 1.47 1.35L5.41 20z\"/>\n",
       "  </svg>\n",
       "      </button>\n",
       "      \n",
       "  <style>\n",
       "    .colab-df-container {\n",
       "      display:flex;\n",
       "      flex-wrap:wrap;\n",
       "      gap: 12px;\n",
       "    }\n",
       "\n",
       "    .colab-df-convert {\n",
       "      background-color: #E8F0FE;\n",
       "      border: none;\n",
       "      border-radius: 50%;\n",
       "      cursor: pointer;\n",
       "      display: none;\n",
       "      fill: #1967D2;\n",
       "      height: 32px;\n",
       "      padding: 0 0 0 0;\n",
       "      width: 32px;\n",
       "    }\n",
       "\n",
       "    .colab-df-convert:hover {\n",
       "      background-color: #E2EBFA;\n",
       "      box-shadow: 0px 1px 2px rgba(60, 64, 67, 0.3), 0px 1px 3px 1px rgba(60, 64, 67, 0.15);\n",
       "      fill: #174EA6;\n",
       "    }\n",
       "\n",
       "    [theme=dark] .colab-df-convert {\n",
       "      background-color: #3B4455;\n",
       "      fill: #D2E3FC;\n",
       "    }\n",
       "\n",
       "    [theme=dark] .colab-df-convert:hover {\n",
       "      background-color: #434B5C;\n",
       "      box-shadow: 0px 1px 3px 1px rgba(0, 0, 0, 0.15);\n",
       "      filter: drop-shadow(0px 1px 2px rgba(0, 0, 0, 0.3));\n",
       "      fill: #FFFFFF;\n",
       "    }\n",
       "  </style>\n",
       "\n",
       "      <script>\n",
       "        const buttonEl =\n",
       "          document.querySelector('#df-9fe94878-e83d-420a-a724-0bcdc842512e button.colab-df-convert');\n",
       "        buttonEl.style.display =\n",
       "          google.colab.kernel.accessAllowed ? 'block' : 'none';\n",
       "\n",
       "        async function convertToInteractive(key) {\n",
       "          const element = document.querySelector('#df-9fe94878-e83d-420a-a724-0bcdc842512e');\n",
       "          const dataTable =\n",
       "            await google.colab.kernel.invokeFunction('convertToInteractive',\n",
       "                                                     [key], {});\n",
       "          if (!dataTable) return;\n",
       "\n",
       "          const docLinkHtml = 'Like what you see? Visit the ' +\n",
       "            '<a target=\"_blank\" href=https://colab.research.google.com/notebooks/data_table.ipynb>data table notebook</a>'\n",
       "            + ' to learn more about interactive tables.';\n",
       "          element.innerHTML = '';\n",
       "          dataTable['output_type'] = 'display_data';\n",
       "          await google.colab.output.renderOutput(dataTable, element);\n",
       "          const docLink = document.createElement('div');\n",
       "          docLink.innerHTML = docLinkHtml;\n",
       "          element.appendChild(docLink);\n",
       "        }\n",
       "      </script>\n",
       "    </div>\n",
       "  </div>\n",
       "  "
      ],
      "text/plain": [
       "                                event_time  order_id  product_id  category_id  \\\n",
       "category_code                                                                   \n",
       "computers.components.cooler            217       217         217          217   \n",
       "computers.components.hdd               725       725         725          725   \n",
       "computers.desktop                      174       174         174          174   \n",
       "computers.notebook                    3922      3922        3922         3922   \n",
       "computers.peripherals.keyboard         127       127         127          127   \n",
       "computers.peripherals.mouse            256       256         256          256   \n",
       "construction.tools.screw              1254      1254        1254         1254   \n",
       "electronics.audio.headphone           9568      9568        9568         9568   \n",
       "electronics.clocks                    5799      5799        5799         5799   \n",
       "electronics.smartphone               46030     46030       46030        46030   \n",
       "electronics.tablet                    2578      2578        2578         2578   \n",
       "\n",
       "                                brand  user_id  price  \n",
       "category_code                                          \n",
       "computers.components.cooler       217      217    217  \n",
       "computers.components.hdd          725      725    725  \n",
       "computers.desktop                 174      174    174  \n",
       "computers.notebook               3922     3922   3922  \n",
       "computers.peripherals.keyboard    127      127    127  \n",
       "computers.peripherals.mouse       256      256    256  \n",
       "construction.tools.screw         1254     1254   1254  \n",
       "electronics.audio.headphone      9568     9568   9568  \n",
       "electronics.clocks               5799     5799   5799  \n",
       "electronics.smartphone          46030    46030  46030  \n",
       "electronics.tablet               2578     2578   2578  "
      ]
     },
     "execution_count": 16,
     "metadata": {},
     "output_type": "execute_result"
    }
   ],
   "source": [
    "# Categories of Apple products\n",
    "apple2 = data[data[\"brand\"] == \"apple\"]\n",
    "apple2 = apple2[apple2[\"category_code\"] != \"\"]\n",
    "apple3 = apple2.groupby(\"category_code\").count()\n",
    "apple3"
   ]
  },
  {
   "cell_type": "code",
   "execution_count": 17,
   "metadata": {
    "colab": {
     "base_uri": "https://localhost:8080/",
     "height": 112
    },
    "id": "uGKrOcA4DwLw",
    "outputId": "2b243402-9206-497b-8a2d-4710e598bf8b"
   },
   "outputs": [
    {
     "data": {
      "text/html": [
       "\n",
       "  <div id=\"df-a3dc7f66-9d5d-4dbb-8089-394507d0c06b\">\n",
       "    <div class=\"colab-df-container\">\n",
       "      <div>\n",
       "<style scoped>\n",
       "    .dataframe tbody tr th:only-of-type {\n",
       "        vertical-align: middle;\n",
       "    }\n",
       "\n",
       "    .dataframe tbody tr th {\n",
       "        vertical-align: top;\n",
       "    }\n",
       "\n",
       "    .dataframe thead th {\n",
       "        text-align: right;\n",
       "    }\n",
       "</style>\n",
       "<table border=\"1\" class=\"dataframe\">\n",
       "  <thead>\n",
       "    <tr style=\"text-align: right;\">\n",
       "      <th></th>\n",
       "      <th>event_time</th>\n",
       "      <th>order_id</th>\n",
       "      <th>product_id</th>\n",
       "      <th>category_id</th>\n",
       "      <th>brand</th>\n",
       "      <th>user_id</th>\n",
       "      <th>price</th>\n",
       "    </tr>\n",
       "    <tr>\n",
       "      <th>category_code</th>\n",
       "      <th></th>\n",
       "      <th></th>\n",
       "      <th></th>\n",
       "      <th></th>\n",
       "      <th></th>\n",
       "      <th></th>\n",
       "      <th></th>\n",
       "    </tr>\n",
       "  </thead>\n",
       "  <tbody>\n",
       "    <tr>\n",
       "      <th>electronics.smartphone</th>\n",
       "      <td>46030</td>\n",
       "      <td>46030</td>\n",
       "      <td>46030</td>\n",
       "      <td>46030</td>\n",
       "      <td>46030</td>\n",
       "      <td>46030</td>\n",
       "      <td>46030</td>\n",
       "    </tr>\n",
       "  </tbody>\n",
       "</table>\n",
       "</div>\n",
       "      <button class=\"colab-df-convert\" onclick=\"convertToInteractive('df-a3dc7f66-9d5d-4dbb-8089-394507d0c06b')\"\n",
       "              title=\"Convert this dataframe to an interactive table.\"\n",
       "              style=\"display:none;\">\n",
       "        \n",
       "  <svg xmlns=\"http://www.w3.org/2000/svg\" height=\"24px\"viewBox=\"0 0 24 24\"\n",
       "       width=\"24px\">\n",
       "    <path d=\"M0 0h24v24H0V0z\" fill=\"none\"/>\n",
       "    <path d=\"M18.56 5.44l.94 2.06.94-2.06 2.06-.94-2.06-.94-.94-2.06-.94 2.06-2.06.94zm-11 1L8.5 8.5l.94-2.06 2.06-.94-2.06-.94L8.5 2.5l-.94 2.06-2.06.94zm10 10l.94 2.06.94-2.06 2.06-.94-2.06-.94-.94-2.06-.94 2.06-2.06.94z\"/><path d=\"M17.41 7.96l-1.37-1.37c-.4-.4-.92-.59-1.43-.59-.52 0-1.04.2-1.43.59L10.3 9.45l-7.72 7.72c-.78.78-.78 2.05 0 2.83L4 21.41c.39.39.9.59 1.41.59.51 0 1.02-.2 1.41-.59l7.78-7.78 2.81-2.81c.8-.78.8-2.07 0-2.86zM5.41 20L4 18.59l7.72-7.72 1.47 1.35L5.41 20z\"/>\n",
       "  </svg>\n",
       "      </button>\n",
       "      \n",
       "  <style>\n",
       "    .colab-df-container {\n",
       "      display:flex;\n",
       "      flex-wrap:wrap;\n",
       "      gap: 12px;\n",
       "    }\n",
       "\n",
       "    .colab-df-convert {\n",
       "      background-color: #E8F0FE;\n",
       "      border: none;\n",
       "      border-radius: 50%;\n",
       "      cursor: pointer;\n",
       "      display: none;\n",
       "      fill: #1967D2;\n",
       "      height: 32px;\n",
       "      padding: 0 0 0 0;\n",
       "      width: 32px;\n",
       "    }\n",
       "\n",
       "    .colab-df-convert:hover {\n",
       "      background-color: #E2EBFA;\n",
       "      box-shadow: 0px 1px 2px rgba(60, 64, 67, 0.3), 0px 1px 3px 1px rgba(60, 64, 67, 0.15);\n",
       "      fill: #174EA6;\n",
       "    }\n",
       "\n",
       "    [theme=dark] .colab-df-convert {\n",
       "      background-color: #3B4455;\n",
       "      fill: #D2E3FC;\n",
       "    }\n",
       "\n",
       "    [theme=dark] .colab-df-convert:hover {\n",
       "      background-color: #434B5C;\n",
       "      box-shadow: 0px 1px 3px 1px rgba(0, 0, 0, 0.15);\n",
       "      filter: drop-shadow(0px 1px 2px rgba(0, 0, 0, 0.3));\n",
       "      fill: #FFFFFF;\n",
       "    }\n",
       "  </style>\n",
       "\n",
       "      <script>\n",
       "        const buttonEl =\n",
       "          document.querySelector('#df-a3dc7f66-9d5d-4dbb-8089-394507d0c06b button.colab-df-convert');\n",
       "        buttonEl.style.display =\n",
       "          google.colab.kernel.accessAllowed ? 'block' : 'none';\n",
       "\n",
       "        async function convertToInteractive(key) {\n",
       "          const element = document.querySelector('#df-a3dc7f66-9d5d-4dbb-8089-394507d0c06b');\n",
       "          const dataTable =\n",
       "            await google.colab.kernel.invokeFunction('convertToInteractive',\n",
       "                                                     [key], {});\n",
       "          if (!dataTable) return;\n",
       "\n",
       "          const docLinkHtml = 'Like what you see? Visit the ' +\n",
       "            '<a target=\"_blank\" href=https://colab.research.google.com/notebooks/data_table.ipynb>data table notebook</a>'\n",
       "            + ' to learn more about interactive tables.';\n",
       "          element.innerHTML = '';\n",
       "          dataTable['output_type'] = 'display_data';\n",
       "          await google.colab.output.renderOutput(dataTable, element);\n",
       "          const docLink = document.createElement('div');\n",
       "          docLink.innerHTML = docLinkHtml;\n",
       "          element.appendChild(docLink);\n",
       "        }\n",
       "      </script>\n",
       "    </div>\n",
       "  </div>\n",
       "  "
      ],
      "text/plain": [
       "                        event_time  order_id  product_id  category_id  brand  \\\n",
       "category_code                                                                  \n",
       "electronics.smartphone       46030     46030       46030        46030  46030   \n",
       "\n",
       "                        user_id  price  \n",
       "category_code                           \n",
       "electronics.smartphone    46030  46030  "
      ]
     },
     "execution_count": 17,
     "metadata": {},
     "output_type": "execute_result"
    }
   ],
   "source": [
    "# Most populary apple product\n",
    "apple3 = apple3.sort_values(\"order_id\")\n",
    "apple3[-1:]"
   ]
  },
  {
   "cell_type": "code",
   "execution_count": 18,
   "metadata": {
    "colab": {
     "base_uri": "https://localhost:8080/",
     "height": 81
    },
    "id": "twn0qC6BEpgX",
    "outputId": "43506c9e-85c8-4ee4-f243-469b3a062f39"
   },
   "outputs": [
    {
     "data": {
      "text/html": [
       "\n",
       "  <div id=\"df-034b3d89-fbd0-4e15-99c7-fcf9eb3e6e82\">\n",
       "    <div class=\"colab-df-container\">\n",
       "      <div>\n",
       "<style scoped>\n",
       "    .dataframe tbody tr th:only-of-type {\n",
       "        vertical-align: middle;\n",
       "    }\n",
       "\n",
       "    .dataframe tbody tr th {\n",
       "        vertical-align: top;\n",
       "    }\n",
       "\n",
       "    .dataframe thead th {\n",
       "        text-align: right;\n",
       "    }\n",
       "</style>\n",
       "<table border=\"1\" class=\"dataframe\">\n",
       "  <thead>\n",
       "    <tr style=\"text-align: right;\">\n",
       "      <th></th>\n",
       "      <th>event_time</th>\n",
       "      <th>order_id</th>\n",
       "      <th>product_id</th>\n",
       "      <th>category_id</th>\n",
       "      <th>category_code</th>\n",
       "      <th>brand</th>\n",
       "      <th>user_id</th>\n",
       "      <th>price</th>\n",
       "    </tr>\n",
       "  </thead>\n",
       "  <tbody>\n",
       "    <tr>\n",
       "      <th>16699</th>\n",
       "      <td>2020-05-26 07:08:00 UTC</td>\n",
       "      <td>2317410491674132784</td>\n",
       "      <td>1515966223509130727</td>\n",
       "      <td>2.268105e+18</td>\n",
       "      <td>computers.desktop</td>\n",
       "      <td>apple</td>\n",
       "      <td>1.515916e+18</td>\n",
       "      <td>6018.5</td>\n",
       "    </tr>\n",
       "  </tbody>\n",
       "</table>\n",
       "</div>\n",
       "      <button class=\"colab-df-convert\" onclick=\"convertToInteractive('df-034b3d89-fbd0-4e15-99c7-fcf9eb3e6e82')\"\n",
       "              title=\"Convert this dataframe to an interactive table.\"\n",
       "              style=\"display:none;\">\n",
       "        \n",
       "  <svg xmlns=\"http://www.w3.org/2000/svg\" height=\"24px\"viewBox=\"0 0 24 24\"\n",
       "       width=\"24px\">\n",
       "    <path d=\"M0 0h24v24H0V0z\" fill=\"none\"/>\n",
       "    <path d=\"M18.56 5.44l.94 2.06.94-2.06 2.06-.94-2.06-.94-.94-2.06-.94 2.06-2.06.94zm-11 1L8.5 8.5l.94-2.06 2.06-.94-2.06-.94L8.5 2.5l-.94 2.06-2.06.94zm10 10l.94 2.06.94-2.06 2.06-.94-2.06-.94-.94-2.06-.94 2.06-2.06.94z\"/><path d=\"M17.41 7.96l-1.37-1.37c-.4-.4-.92-.59-1.43-.59-.52 0-1.04.2-1.43.59L10.3 9.45l-7.72 7.72c-.78.78-.78 2.05 0 2.83L4 21.41c.39.39.9.59 1.41.59.51 0 1.02-.2 1.41-.59l7.78-7.78 2.81-2.81c.8-.78.8-2.07 0-2.86zM5.41 20L4 18.59l7.72-7.72 1.47 1.35L5.41 20z\"/>\n",
       "  </svg>\n",
       "      </button>\n",
       "      \n",
       "  <style>\n",
       "    .colab-df-container {\n",
       "      display:flex;\n",
       "      flex-wrap:wrap;\n",
       "      gap: 12px;\n",
       "    }\n",
       "\n",
       "    .colab-df-convert {\n",
       "      background-color: #E8F0FE;\n",
       "      border: none;\n",
       "      border-radius: 50%;\n",
       "      cursor: pointer;\n",
       "      display: none;\n",
       "      fill: #1967D2;\n",
       "      height: 32px;\n",
       "      padding: 0 0 0 0;\n",
       "      width: 32px;\n",
       "    }\n",
       "\n",
       "    .colab-df-convert:hover {\n",
       "      background-color: #E2EBFA;\n",
       "      box-shadow: 0px 1px 2px rgba(60, 64, 67, 0.3), 0px 1px 3px 1px rgba(60, 64, 67, 0.15);\n",
       "      fill: #174EA6;\n",
       "    }\n",
       "\n",
       "    [theme=dark] .colab-df-convert {\n",
       "      background-color: #3B4455;\n",
       "      fill: #D2E3FC;\n",
       "    }\n",
       "\n",
       "    [theme=dark] .colab-df-convert:hover {\n",
       "      background-color: #434B5C;\n",
       "      box-shadow: 0px 1px 3px 1px rgba(0, 0, 0, 0.15);\n",
       "      filter: drop-shadow(0px 1px 2px rgba(0, 0, 0, 0.3));\n",
       "      fill: #FFFFFF;\n",
       "    }\n",
       "  </style>\n",
       "\n",
       "      <script>\n",
       "        const buttonEl =\n",
       "          document.querySelector('#df-034b3d89-fbd0-4e15-99c7-fcf9eb3e6e82 button.colab-df-convert');\n",
       "        buttonEl.style.display =\n",
       "          google.colab.kernel.accessAllowed ? 'block' : 'none';\n",
       "\n",
       "        async function convertToInteractive(key) {\n",
       "          const element = document.querySelector('#df-034b3d89-fbd0-4e15-99c7-fcf9eb3e6e82');\n",
       "          const dataTable =\n",
       "            await google.colab.kernel.invokeFunction('convertToInteractive',\n",
       "                                                     [key], {});\n",
       "          if (!dataTable) return;\n",
       "\n",
       "          const docLinkHtml = 'Like what you see? Visit the ' +\n",
       "            '<a target=\"_blank\" href=https://colab.research.google.com/notebooks/data_table.ipynb>data table notebook</a>'\n",
       "            + ' to learn more about interactive tables.';\n",
       "          element.innerHTML = '';\n",
       "          dataTable['output_type'] = 'display_data';\n",
       "          await google.colab.output.renderOutput(dataTable, element);\n",
       "          const docLink = document.createElement('div');\n",
       "          docLink.innerHTML = docLinkHtml;\n",
       "          element.appendChild(docLink);\n",
       "        }\n",
       "      </script>\n",
       "    </div>\n",
       "  </div>\n",
       "  "
      ],
      "text/plain": [
       "                    event_time             order_id           product_id  \\\n",
       "16699  2020-05-26 07:08:00 UTC  2317410491674132784  1515966223509130727   \n",
       "\n",
       "        category_id      category_code  brand       user_id   price  \n",
       "16699  2.268105e+18  computers.desktop  apple  1.515916e+18  6018.5  "
      ]
     },
     "execution_count": 18,
     "metadata": {},
     "output_type": "execute_result"
    }
   ],
   "source": [
    "# Most high cost apple product\n",
    "apple4 = apple2.sort_values(\"price\")\n",
    "apple4[-1:]"
   ]
  },
  {
   "cell_type": "markdown",
   "metadata": {
    "collapsed": true,
    "id": "JX6KaRKeMnCZ"
   },
   "source": [
    "#### 11. В каком количестве заказов есть товар, который стоит более 40% от суммы всего чека?\n",
    "\n",
    "Возможно, будет удобно посчитать отдельно средний чек, добавить его в исходные данные и сделать необходимые проверки."
   ]
  },
  {
   "cell_type": "code",
   "execution_count": null,
   "metadata": {
    "id": "pk5psTFpMnCZ"
   },
   "outputs": [],
   "source": [
    "#\n",
    "sum = data[data[\"order_id\"] != 0].groupby([\"order_id\"]).sum()[\"price\"]\n",
    "sum = pd.DataFrame(sum, index = sum.index, columns=[\"price\"])\n",
    "sum = sum[sum[\"price\"] != 0]\n",
    "\n",
    "orders = 0\n",
    "filter = data[data[\"order_id\"].isin(sum.index)]\n",
    "\n",
    "def map_func(index):\n",
    "    filter2 = filter[filter[\"order_id\"] == index][filter[\"price\"] > sum.loc[index].array[0] * 0.4]\n",
    "    if (len(filter2) > 0):\n",
    "        map_func.orders = map_func.orders + 1\n",
    "\n",
    "map_func.orders = 0\n",
    "sum.index.map(map_func)\n",
    "print(map_func.orders)"
   ]
  },
  {
   "cell_type": "markdown",
   "metadata": {
    "id": "FbEc0gi8MnCa"
   },
   "source": [
    "#### 12. Предположим, что в данных была ошибка и товар с product_id 1515966223509089906, который стоил 162.01, должен был стоить 170,02. Скорректируйте данные в таблицы и посчитайте, на какой процент больше денег было заработано с этого товара. Не забывайте, что количество товара не всегда равно 1."
   ]
  },
  {
   "cell_type": "code",
   "execution_count": 19,
   "metadata": {
    "colab": {
     "base_uri": "https://localhost:8080/"
    },
    "id": "3efObchSMnCa",
    "outputId": "347210e5-bdf0-4e71-88e8-94dd21800055"
   },
   "outputs": [
    {
     "name": "stdout",
     "output_type": "stream",
     "text": [
      "7080.840000000017\n"
     ]
    }
   ],
   "source": [
    "# Про количество товара ни слова в таблице\n",
    "prod = data[data[\"product_id\"] == 1515966223509089906]\n",
    "print(len(prod) * (170.02 - 162.01))"
   ]
  },
  {
   "cell_type": "markdown",
   "metadata": {
    "id": "wFpjvOxWMnCb"
   },
   "source": [
    "#### 13. Создайте новый DateFrame из матрицы, созданной ниже. Назовите колонки index, column1, column2 и сделайте первую колонку индексом."
   ]
  },
  {
   "cell_type": "code",
   "execution_count": 20,
   "metadata": {
    "colab": {
     "base_uri": "https://localhost:8080/",
     "height": 394
    },
    "id": "I2RYRSTXMnCb",
    "outputId": "d0144ff6-f436-4a70-8113-7eec97965cbc"
   },
   "outputs": [
    {
     "data": {
      "text/html": [
       "\n",
       "  <div id=\"df-e0a29926-c48c-4b08-a707-9d31add5fcf0\">\n",
       "    <div class=\"colab-df-container\">\n",
       "      <div>\n",
       "<style scoped>\n",
       "    .dataframe tbody tr th:only-of-type {\n",
       "        vertical-align: middle;\n",
       "    }\n",
       "\n",
       "    .dataframe tbody tr th {\n",
       "        vertical-align: top;\n",
       "    }\n",
       "\n",
       "    .dataframe thead th {\n",
       "        text-align: right;\n",
       "    }\n",
       "</style>\n",
       "<table border=\"1\" class=\"dataframe\">\n",
       "  <thead>\n",
       "    <tr style=\"text-align: right;\">\n",
       "      <th></th>\n",
       "      <th>column1</th>\n",
       "      <th>column2</th>\n",
       "    </tr>\n",
       "    <tr>\n",
       "      <th>index</th>\n",
       "      <th></th>\n",
       "      <th></th>\n",
       "    </tr>\n",
       "  </thead>\n",
       "  <tbody>\n",
       "    <tr>\n",
       "      <th>0.002732</th>\n",
       "      <td>0.426205</td>\n",
       "      <td>0.904756</td>\n",
       "    </tr>\n",
       "    <tr>\n",
       "      <th>0.328127</th>\n",
       "      <td>0.017224</td>\n",
       "      <td>0.287997</td>\n",
       "    </tr>\n",
       "    <tr>\n",
       "      <th>0.945006</th>\n",
       "      <td>0.874022</td>\n",
       "      <td>0.960209</td>\n",
       "    </tr>\n",
       "    <tr>\n",
       "      <th>0.324320</th>\n",
       "      <td>0.371065</td>\n",
       "      <td>0.767699</td>\n",
       "    </tr>\n",
       "    <tr>\n",
       "      <th>0.924376</th>\n",
       "      <td>0.383445</td>\n",
       "      <td>0.515458</td>\n",
       "    </tr>\n",
       "    <tr>\n",
       "      <th>0.594093</th>\n",
       "      <td>0.790212</td>\n",
       "      <td>0.176543</td>\n",
       "    </tr>\n",
       "    <tr>\n",
       "      <th>0.917473</th>\n",
       "      <td>0.666839</td>\n",
       "      <td>0.366860</td>\n",
       "    </tr>\n",
       "    <tr>\n",
       "      <th>0.627127</th>\n",
       "      <td>0.969253</td>\n",
       "      <td>0.020091</td>\n",
       "    </tr>\n",
       "    <tr>\n",
       "      <th>0.786290</th>\n",
       "      <td>0.107126</td>\n",
       "      <td>0.143443</td>\n",
       "    </tr>\n",
       "    <tr>\n",
       "      <th>0.950963</th>\n",
       "      <td>0.832116</td>\n",
       "      <td>0.241061</td>\n",
       "    </tr>\n",
       "  </tbody>\n",
       "</table>\n",
       "</div>\n",
       "      <button class=\"colab-df-convert\" onclick=\"convertToInteractive('df-e0a29926-c48c-4b08-a707-9d31add5fcf0')\"\n",
       "              title=\"Convert this dataframe to an interactive table.\"\n",
       "              style=\"display:none;\">\n",
       "        \n",
       "  <svg xmlns=\"http://www.w3.org/2000/svg\" height=\"24px\"viewBox=\"0 0 24 24\"\n",
       "       width=\"24px\">\n",
       "    <path d=\"M0 0h24v24H0V0z\" fill=\"none\"/>\n",
       "    <path d=\"M18.56 5.44l.94 2.06.94-2.06 2.06-.94-2.06-.94-.94-2.06-.94 2.06-2.06.94zm-11 1L8.5 8.5l.94-2.06 2.06-.94-2.06-.94L8.5 2.5l-.94 2.06-2.06.94zm10 10l.94 2.06.94-2.06 2.06-.94-2.06-.94-.94-2.06-.94 2.06-2.06.94z\"/><path d=\"M17.41 7.96l-1.37-1.37c-.4-.4-.92-.59-1.43-.59-.52 0-1.04.2-1.43.59L10.3 9.45l-7.72 7.72c-.78.78-.78 2.05 0 2.83L4 21.41c.39.39.9.59 1.41.59.51 0 1.02-.2 1.41-.59l7.78-7.78 2.81-2.81c.8-.78.8-2.07 0-2.86zM5.41 20L4 18.59l7.72-7.72 1.47 1.35L5.41 20z\"/>\n",
       "  </svg>\n",
       "      </button>\n",
       "      \n",
       "  <style>\n",
       "    .colab-df-container {\n",
       "      display:flex;\n",
       "      flex-wrap:wrap;\n",
       "      gap: 12px;\n",
       "    }\n",
       "\n",
       "    .colab-df-convert {\n",
       "      background-color: #E8F0FE;\n",
       "      border: none;\n",
       "      border-radius: 50%;\n",
       "      cursor: pointer;\n",
       "      display: none;\n",
       "      fill: #1967D2;\n",
       "      height: 32px;\n",
       "      padding: 0 0 0 0;\n",
       "      width: 32px;\n",
       "    }\n",
       "\n",
       "    .colab-df-convert:hover {\n",
       "      background-color: #E2EBFA;\n",
       "      box-shadow: 0px 1px 2px rgba(60, 64, 67, 0.3), 0px 1px 3px 1px rgba(60, 64, 67, 0.15);\n",
       "      fill: #174EA6;\n",
       "    }\n",
       "\n",
       "    [theme=dark] .colab-df-convert {\n",
       "      background-color: #3B4455;\n",
       "      fill: #D2E3FC;\n",
       "    }\n",
       "\n",
       "    [theme=dark] .colab-df-convert:hover {\n",
       "      background-color: #434B5C;\n",
       "      box-shadow: 0px 1px 3px 1px rgba(0, 0, 0, 0.15);\n",
       "      filter: drop-shadow(0px 1px 2px rgba(0, 0, 0, 0.3));\n",
       "      fill: #FFFFFF;\n",
       "    }\n",
       "  </style>\n",
       "\n",
       "      <script>\n",
       "        const buttonEl =\n",
       "          document.querySelector('#df-e0a29926-c48c-4b08-a707-9d31add5fcf0 button.colab-df-convert');\n",
       "        buttonEl.style.display =\n",
       "          google.colab.kernel.accessAllowed ? 'block' : 'none';\n",
       "\n",
       "        async function convertToInteractive(key) {\n",
       "          const element = document.querySelector('#df-e0a29926-c48c-4b08-a707-9d31add5fcf0');\n",
       "          const dataTable =\n",
       "            await google.colab.kernel.invokeFunction('convertToInteractive',\n",
       "                                                     [key], {});\n",
       "          if (!dataTable) return;\n",
       "\n",
       "          const docLinkHtml = 'Like what you see? Visit the ' +\n",
       "            '<a target=\"_blank\" href=https://colab.research.google.com/notebooks/data_table.ipynb>data table notebook</a>'\n",
       "            + ' to learn more about interactive tables.';\n",
       "          element.innerHTML = '';\n",
       "          dataTable['output_type'] = 'display_data';\n",
       "          await google.colab.output.renderOutput(dataTable, element);\n",
       "          const docLink = document.createElement('div');\n",
       "          docLink.innerHTML = docLinkHtml;\n",
       "          element.appendChild(docLink);\n",
       "        }\n",
       "      </script>\n",
       "    </div>\n",
       "  </div>\n",
       "  "
      ],
      "text/plain": [
       "           column1   column2\n",
       "index                       \n",
       "0.002732  0.426205  0.904756\n",
       "0.328127  0.017224  0.287997\n",
       "0.945006  0.874022  0.960209\n",
       "0.324320  0.371065  0.767699\n",
       "0.924376  0.383445  0.515458\n",
       "0.594093  0.790212  0.176543\n",
       "0.917473  0.666839  0.366860\n",
       "0.627127  0.969253  0.020091\n",
       "0.786290  0.107126  0.143443\n",
       "0.950963  0.832116  0.241061"
      ]
     },
     "execution_count": 20,
     "metadata": {},
     "output_type": "execute_result"
    }
   ],
   "source": [
    "ndata = np.random.rand(10, 3)\n",
    "mdata = pd.DataFrame(data={ 'column1': ndata[:, 1], 'column2': ndata[:, 2]}, index=ndata[:, 0])\n",
    "mdata.index.name = 'index'\n",
    "mdata"
   ]
  },
  {
   "cell_type": "markdown",
   "metadata": {
    "id": "wQbo6rlRMnCc"
   },
   "source": [
    "Сохраните DataFrame локально в формате csv без индексов и названий столбцов."
   ]
  },
  {
   "cell_type": "code",
   "execution_count": 21,
   "metadata": {
    "id": "3oOM98wgMnCd"
   },
   "outputs": [],
   "source": [
    "mdata.to_csv(\"lab1_output1.csv\", encoding=\"utf-8\")\n",
    "%cp \"lab1_output1.csv\" \"/gdrive/MyDrive/Data-Mining-Labs/lab1_output1.csv\""
   ]
  },
  {
   "cell_type": "markdown",
   "metadata": {
    "id": "KtDvPOiZMnCe"
   },
   "source": [
    "## 2. Визуализации и matplotlib"
   ]
  },
  {
   "cell_type": "markdown",
   "metadata": {
    "id": "ptzlNE-eMnCe"
   },
   "source": [
    "Библиотека matplotlib - это бибилиотека двумерной графики для языка программирования python с помощью которой можно создавать высококачественные рисунки различных форматов. Matplotlib представляет собой модуль-пакет для python.\n",
    "Matplotlib cостоит из множества модулей. Модули наполнены различными классами и функциями, которые иерархически связаны между собой."
   ]
  },
  {
   "cell_type": "code",
   "execution_count": 22,
   "metadata": {
    "id": "a7V9VSDrMnCe"
   },
   "outputs": [],
   "source": [
    "%matplotlib inline\n",
    "# нужно для отображения графиков внутри ноутбука\n",
    "import matplotlib.pyplot as plt\n",
    "import matplotlib.patches as patches\n",
    "import matplotlib.path as path"
   ]
  },
  {
   "cell_type": "markdown",
   "metadata": {
    "id": "QVH1_C73MnCf"
   },
   "source": [
    "На самом деле мы уже импортировали matplotlib внутри %pylab inline в начале задания.\n",
    "\n",
    "Работать мы будем с той же выборкой покупкок. Добавим новую колонку с датой покупки."
   ]
  },
  {
   "cell_type": "code",
   "execution_count": 23,
   "metadata": {
    "id": "cQpj1UysMnCf"
   },
   "outputs": [],
   "source": [
    "import datetime\n",
    "import random\n",
    "\n",
    "start = datetime.datetime(2018, 1, 1)\n",
    "end = datetime.datetime(2018, 1, 31)\n",
    "delta_seconds = int((end - start).total_seconds())\n",
    "\n",
    "dates = pd.DataFrame(index=df.order_id.unique())\n",
    "dates['date'] = [\n",
    "    (start + datetime.timedelta(seconds=random.randint(0, delta_seconds))).strftime('%Y-%m-%d')\n",
    "    for _ in range(df.order_id.nunique())]\n",
    "\n",
    "df['date'] = df.order_id.map(dates['date'])"
   ]
  },
  {
   "cell_type": "markdown",
   "metadata": {
    "id": "-yN7fuYcMnCg"
   },
   "source": [
    "#### 1. Постройте гистограмму распределения сумм покупок и гистограмму средних цен отдельных видов продуктов product_id. \n",
    "\n",
    "Изображайте на двух соседних графиках. Для используйте subplot."
   ]
  },
  {
   "cell_type": "code",
   "execution_count": 11,
   "metadata": {
    "id": "gDpHcxozMnCg"
   },
   "outputs": [],
   "source": [
    "# Data for 1st hist\n",
    "sum_buy = df[df[\"order_id\"] != 0][df[\"price\"] != 0].groupby([\"order_id\"])[\"price\"].sum()\n",
    "\n",
    "# Data for 2nd hist\n",
    "product_cost = df[df[\"category_code\"] != \"\"].groupby([\"category_code\"]).sum()\n",
    "product_cost = product_cost[product_cost[\"price\"] != 0]\n",
    "product_count = df[df[\"category_code\"] != \"\"].groupby([\"category_code\"]).count()\n",
    "product_count = product_count[product_count[\"price\"] != 0]\n",
    "# Average product cost\n",
    "product_cost[\"price\"] = product_cost[\"price\"] / product_count[\"price\"]"
   ]
  },
  {
   "cell_type": "code",
   "execution_count": 10,
   "metadata": {
    "colab": {
     "base_uri": "https://localhost:8080/",
     "height": 420
    },
    "id": "lhsdbeYbOlxn",
    "outputId": "d6616987-7eec-4966-b7c2-c250fe1bc664"
   },
   "outputs": [
    {
     "data": {
      "text/plain": [
       "Text(0.5, 1.0, 'Hist of average cost products')"
      ]
     },
     "execution_count": 10,
     "metadata": {},
     "output_type": "execute_result"
    },
    {
     "data": {
      "image/png": "[encoded data removed]",
      "text/plain": [
       "<Figure size 864x432 with 2 Axes>"
      ]
     },
     "metadata": {},
     "output_type": "display_data"
    }
   ],
   "source": [
    "# Plot hists\n",
    "fig, axs = plt.subplots(1, 2)\n",
    "fig.set_facecolor('floralwhite')\n",
    "fig.set_figwidth(12)\n",
    "fig.set_figheight(6)\n",
    "axs[0].hist(sum_buy[-50000:], bins=len(sum_buy[-50000:]))\n",
    "axs[0].set_title(\"Hist of prices\")\n",
    "axs[0].set_xlim([0, 1000])\n",
    "axs[0].set_ylim([0, 100])\n",
    "axs[1].hist(product_cost[\"price\"], bins=len(product_cost[\"price\"]))\n",
    "axs[1].set_title(\"Hist of average cost products\")"
   ]
  },
  {
   "cell_type": "markdown",
   "metadata": {
    "id": "Zww6VXuCMnCg"
   },
   "source": [
    "#### 2. Постройте график зависимости суммы покупок от дней."
   ]
  },
  {
   "cell_type": "code",
   "execution_count": 26,
   "metadata": {
    "colab": {
     "base_uri": "https://localhost:8080/",
     "height": 290
    },
    "id": "crv_eah7MnCh",
    "outputId": "98aeff84-6c4a-4953-d1e5-e5f17b33a2e2"
   },
   "outputs": [
    {
     "data": {
      "image/png": "[encoded data removed]",
      "text/plain": [
       "<Figure size 432x288 with 1 Axes>"
      ]
     },
     "metadata": {
      "needs_background": "light"
     },
     "output_type": "display_data"
    }
   ],
   "source": [
    "df[\"date\"] = pd.to_datetime(df[\"date\"], format=\"%Y-%m-%d\")\n",
    "days = df[df[\"price\"] != 0].groupby(df[\"date\"].dt.day).sum()\n",
    "days[\"date\"] = days.index\n",
    "fig = days.plot(x=\"date\", y=\"price\").get_figure()"
   ]
  },
  {
   "cell_type": "markdown",
   "metadata": {
    "id": "5Q4R48HLMnCh"
   },
   "source": [
    "#### 3. Постройте средних сумм покупок по дням недели (bar plot)."
   ]
  },
  {
   "cell_type": "code",
   "execution_count": 27,
   "metadata": {
    "colab": {
     "base_uri": "https://localhost:8080/",
     "height": 894
    },
    "id": "Qc5SxKqsMnCh",
    "outputId": "0777f1a4-f448-4958-9a66-f20827c69c99"
   },
   "outputs": [
    {
     "name": "stdout",
     "output_type": "stream",
     "text": [
      "Total:\n",
      " date\n",
      "Friday       45584964.30\n",
      "Monday       56509456.22\n",
      "Saturday     45157002.08\n",
      "Sunday       45163985.13\n",
      "Thursday     45053721.64\n",
      "Tuesday      56469855.89\n",
      "Wednesday    45307442.45\n",
      "Name: price, dtype: float64 \n",
      "\n",
      "Total count:\n",
      " date\n",
      "Friday       295364\n",
      "Monday       366509\n",
      "Saturday     294053\n",
      "Sunday       292503\n",
      "Thursday     292550\n",
      "Tuesday      365727\n",
      "Wednesday    294740\n",
      "Name: price, dtype: int64 \n",
      "\n",
      "Mean:\n",
      " date\n",
      "Friday       154.334869\n",
      "Monday       154.182997\n",
      "Saturday     153.567561\n",
      "Sunday       154.405203\n",
      "Thursday     154.003492\n",
      "Tuesday      154.404394\n",
      "Wednesday    153.720033\n",
      "Name: price, dtype: float64 \n",
      "\n"
     ]
    },
    {
     "data": {
      "text/plain": [
       "<matplotlib.axes._subplots.AxesSubplot at 0x7f7a12d9e250>"
      ]
     },
     "execution_count": 27,
     "metadata": {},
     "output_type": "execute_result"
    },
    {
     "data": {
      "image/png": "[encoded data removed]",
      "text/plain": [
       "<Figure size 432x288 with 1 Axes>"
      ]
     },
     "metadata": {
      "needs_background": "light"
     },
     "output_type": "display_data"
    }
   ],
   "source": [
    "wdays_sum = df[df[\"price\"] != 0].groupby(df[\"date\"].dt.day_name()).sum()\n",
    "wdays_count = df[df[\"price\"] != 0].groupby(df[\"date\"].dt.day_name()).count()[\"price\"]\n",
    "print(\"Total:\\n\", wdays_sum[\"price\"], '\\n')\n",
    "print(\"Total count:\\n\", wdays_count, '\\n')\n",
    "wdays_sum[\"price\"] = wdays_sum[\"price\"] / wdays_count\n",
    "print(\"Mean:\\n\", wdays_sum[\"price\"], '\\n')\n",
    "wdays_sum[\"days\"] = wdays_sum.index\n",
    "wdays_sum.plot(x=\"days\", y=\"price\", kind=\"bar\", rot=25)"
   ]
  },
  {
   "cell_type": "markdown",
   "metadata": {
    "id": "3cdNHvb0MnCi"
   },
   "source": [
    "#### 4. Постройте график зависимости денег за товар от купленного количества (scatter plot)."
   ]
  },
  {
   "cell_type": "code",
   "execution_count": 28,
   "metadata": {
    "colab": {
     "base_uri": "https://localhost:8080/"
    },
    "id": "1OJzGuzMMnCi",
    "outputId": "1c0f1555-c4ae-4fcf-f72d-387d88510cad"
   },
   "outputs": [
    {
     "name": "stderr",
     "output_type": "stream",
     "text": [
      "/usr/local/lib/python3.7/dist-packages/ipykernel_launcher.py:9: SettingWithCopyWarning: \n",
      "A value is trying to be set on a copy of a slice from a DataFrame.\n",
      "Try using .loc[row_indexer,col_indexer] = value instead\n",
      "\n",
      "See the caveats in the documentation: https://pandas.pydata.org/pandas-docs/stable/user_guide/indexing.html#returning-a-view-versus-a-copy\n",
      "  if __name__ == '__main__':\n"
     ]
    }
   ],
   "source": [
    "# New data frame\n",
    "product_count = df[df[\"category_code\"] != \"\"].groupby([\"category_code\"]).count()\n",
    "product_count = product_count[product_count[\"price\"] != 0][\"price\"]\n",
    "\n",
    "def get_count(category):\n",
    "  return product_count.loc[category]\n",
    "\n",
    "cor = df[df[\"category_code\"] != \"\"]\n",
    "cor[\"count\"] = cor[\"category_code\"].map(get_count)"
   ]
  },
  {
   "cell_type": "code",
   "execution_count": 29,
   "metadata": {
    "colab": {
     "base_uri": "https://localhost:8080/",
     "height": 296
    },
    "id": "ERlO3WIvroW0",
    "outputId": "5b3a0247-053c-46c7-ca7a-c00e93977184"
   },
   "outputs": [
    {
     "data": {
      "text/plain": [
       "<matplotlib.axes._subplots.AxesSubplot at 0x7f7a12d33f50>"
      ]
     },
     "execution_count": 29,
     "metadata": {},
     "output_type": "execute_result"
    },
    {
     "data": {
      "image/png": "[encoded data removed]",
      "text/plain": [
       "<Figure size 432x288 with 1 Axes>"
      ]
     },
     "metadata": {
      "needs_background": "light"
     },
     "output_type": "display_data"
    }
   ],
   "source": [
    "cor.plot(x=\"price\", y=\"count\", kind=\"scatter\")"
   ]
  },
  {
   "cell_type": "code",
   "execution_count": 30,
   "metadata": {
    "colab": {
     "base_uri": "https://localhost:8080/",
     "height": 332
    },
    "id": "Dpwb-gQJr73h",
    "outputId": "1299f421-05b3-4dc3-cf2c-e5fddc28e797"
   },
   "outputs": [
    {
     "name": "stderr",
     "output_type": "stream",
     "text": [
      "/usr/local/lib/python3.7/dist-packages/ipykernel_launcher.py:2: UserWarning: Boolean Series key will be reindexed to match DataFrame index.\n",
      "  \n"
     ]
    },
    {
     "data": {
      "text/plain": [
       "<matplotlib.axes._subplots.AxesSubplot at 0x7f7a1041b450>"
      ]
     },
     "execution_count": 30,
     "metadata": {},
     "output_type": "execute_result"
    },
    {
     "data": {
      "image/png": "[encoded data removed]",
      "text/plain": [
       "<Figure size 432x288 with 1 Axes>"
      ]
     },
     "metadata": {
      "needs_background": "light"
     },
     "output_type": "display_data"
    }
   ],
   "source": [
    "# with slice big values\n",
    "cor2 = cor[cor[\"price\"] < 20000][cor[\"count\"] < 100000]\n",
    "cor2.plot(x=\"price\", y=\"count\", kind=\"scatter\")"
   ]
  },
  {
   "cell_type": "markdown",
   "metadata": {
    "id": "l05HVAWUMnCi"
   },
   "source": [
    "Сохраните график в формате pdf (так он останется векторизованным)."
   ]
  },
  {
   "cell_type": "code",
   "execution_count": 31,
   "metadata": {
    "colab": {
     "base_uri": "https://localhost:8080/",
     "height": 17
    },
    "id": "p2qesQrfMnCj",
    "outputId": "8e1b967c-41f3-42f0-b734-e6622c32b5d8"
   },
   "outputs": [
    {
     "data": {
      "application/javascript": [
       "\n",
       "    async function download(id, filename, size) {\n",
       "      if (!google.colab.kernel.accessAllowed) {\n",
       "        return;\n",
       "      }\n",
       "      const div = document.createElement('div');\n",
       "      const label = document.createElement('label');\n",
       "      label.textContent = `Downloading \"${filename}\": `;\n",
       "      div.appendChild(label);\n",
       "      const progress = document.createElement('progress');\n",
       "      progress.max = size;\n",
       "      div.appendChild(progress);\n",
       "      document.body.appendChild(div);\n",
       "\n",
       "      const buffers = [];\n",
       "      let downloaded = 0;\n",
       "\n",
       "      const channel = await google.colab.kernel.comms.open(id);\n",
       "      // Send a message to notify the kernel that we're ready.\n",
       "      channel.send({})\n",
       "\n",
       "      for await (const message of channel.messages) {\n",
       "        // Send a message to notify the kernel that we're ready.\n",
       "        channel.send({})\n",
       "        if (message.buffers) {\n",
       "          for (const buffer of message.buffers) {\n",
       "            buffers.push(buffer);\n",
       "            downloaded += buffer.byteLength;\n",
       "            progress.value = downloaded;\n",
       "          }\n",
       "        }\n",
       "      }\n",
       "      const blob = new Blob(buffers, {type: 'application/binary'});\n",
       "      const a = document.createElement('a');\n",
       "      a.href = window.URL.createObjectURL(blob);\n",
       "      a.download = filename;\n",
       "      div.appendChild(a);\n",
       "      a.click();\n",
       "      div.remove();\n",
       "    }\n",
       "  "
      ],
      "text/plain": [
       "<IPython.core.display.Javascript object>"
      ]
     },
     "metadata": {},
     "output_type": "display_data"
    },
    {
     "data": {
      "application/javascript": [
       "download(\"download_a962c67c-5573-40a3-94c7-e9c525b924f1\", \"lab1_output2.pdf\", 8721)"
      ],
      "text/plain": [
       "<IPython.core.display.Javascript object>"
      ]
     },
     "metadata": {},
     "output_type": "display_data"
    }
   ],
   "source": [
    "fig.savefig(\"lab1_output2.pdf\")\n",
    "files.download('lab1_output2.pdf')\n",
    "%cp \"lab1_output2.pdf\" \"/gdrive/MyDrive/Data-Mining-Labs/lab1_output2.pdf\""
   ]
  },
  {
   "cell_type": "markdown",
   "metadata": {
    "id": "8hpqkOujMnCj"
   },
   "source": [
    "Кстати, существует надстройка над matplotlib под названием [seaborn](https://jakevdp.github.io/PythonDataScienceHandbook/04.14-visualization-with-seaborn.html). Иногда удобнее и красивее делать визуализации через неё. "
   ]
  },
  {
   "cell_type": "code",
   "execution_count": 32,
   "metadata": {
    "id": "J8_P3Ti9HTll"
   },
   "outputs": [],
   "source": [
    "drive.flush_and_unmount()"
   ]
  }
 ],
 "metadata": {
  "colab": {
   "collapsed_sections": [],
   "name": "DM_and_DB_lab1.ipynb",
   "provenance": []
  },
  "kernel_info": {
   "name": "py36"
  },
  "kernelspec": {
   "display_name": "Python 3 (ipykernel)",
   "language": "python",
   "name": "python3"
  },
  "language_info": {
   "codemirror_mode": {
    "name": "ipython",
    "version": 3
   },
   "file_extension": ".py",
   "mimetype": "text/x-python",
   "name": "python",
   "nbconvert_exporter": "python",
   "pygments_lexer": "ipython3",
   "version": "3.9.10"
  },
  "nteract": {
   "version": "0.11.6"
  }
 },
 "nbformat": 4,
 "nbformat_minor": 1
}
