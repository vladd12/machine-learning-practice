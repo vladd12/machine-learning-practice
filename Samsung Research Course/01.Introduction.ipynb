{
  "nbformat": 4,
  "nbformat_minor": 0,
  "metadata": {
    "colab": {
      "name": "01-Introduction.ipynb",
      "provenance": [],
      "collapsed_sections": []
    },
    "kernelspec": {
      "name": "python3",
      "display_name": "Python 3"
    },
    "language_info": {
      "name": "python"
    },
    "accelerator": "GPU"
  },
  "cells": [
    {
      "cell_type": "code",
      "execution_count": 1,
      "metadata": {
        "id": "n0o1Qt3kWGoL"
      },
      "outputs": [],
      "source": [
        "import torch"
      ]
    },
    {
      "cell_type": "code",
      "source": [
        "# Создание заполненных тензоров\n",
        "print(torch.zeros([3, 4]))\n",
        "print(torch.ones([3, 4, 4]))"
      ],
      "metadata": {
        "colab": {
          "base_uri": "https://localhost:8080/"
        },
        "id": "cVVbWG1MWQBF",
        "outputId": "c672bf94-3685-44a0-92d8-3e5dc9bb2c23"
      },
      "execution_count": 2,
      "outputs": [
        {
          "output_type": "stream",
          "name": "stdout",
          "text": [
            "tensor([[0., 0., 0., 0.],\n",
            "        [0., 0., 0., 0.],\n",
            "        [0., 0., 0., 0.]])\n",
            "tensor([[[1., 1., 1., 1.],\n",
            "         [1., 1., 1., 1.],\n",
            "         [1., 1., 1., 1.],\n",
            "         [1., 1., 1., 1.]],\n",
            "\n",
            "        [[1., 1., 1., 1.],\n",
            "         [1., 1., 1., 1.],\n",
            "         [1., 1., 1., 1.],\n",
            "         [1., 1., 1., 1.]],\n",
            "\n",
            "        [[1., 1., 1., 1.],\n",
            "         [1., 1., 1., 1.],\n",
            "         [1., 1., 1., 1.],\n",
            "         [1., 1., 1., 1.]]])\n"
          ]
        }
      ]
    },
    {
      "cell_type": "code",
      "source": [
        "# Размер тензора, сложение с константой, возведение в степень\n",
        "x = torch.Tensor([[1,  2,  3,  4],\n",
        "                  [5,  6,  7,  8],\n",
        "                  [9, 10, 11, 12]])\n",
        "print(x.size())\n",
        "print(x.shape)\n",
        "print(x[0, 2])\n",
        "print(x + 10)\n",
        "print(x ** 2)"
      ],
      "metadata": {
        "colab": {
          "base_uri": "https://localhost:8080/"
        },
        "id": "85P8BmFTXER4",
        "outputId": "fc1032f2-f368-4a3c-9969-98e5a8709244"
      },
      "execution_count": 3,
      "outputs": [
        {
          "output_type": "stream",
          "name": "stdout",
          "text": [
            "torch.Size([3, 4])\n",
            "torch.Size([3, 4])\n",
            "tensor(3.)\n",
            "tensor([[11., 12., 13., 14.],\n",
            "        [15., 16., 17., 18.],\n",
            "        [19., 20., 21., 22.]])\n",
            "tensor([[  1.,   4.,   9.,  16.],\n",
            "        [ 25.,  36.,  49.,  64.],\n",
            "        [ 81., 100., 121., 144.]])\n"
          ]
        }
      ]
    },
    {
      "cell_type": "code",
      "source": [
        "# Операции между тензорами\n",
        "y = torch.Tensor([[12, 11, 10, 9],\n",
        "                  [8, 7, 6, 5],\n",
        "                  [4, 3, 2, 1]])\n",
        "print(x + y)\n",
        "print(x * y)\n",
        "print(x / y)\n",
        "print(x % y)"
      ],
      "metadata": {
        "colab": {
          "base_uri": "https://localhost:8080/"
        },
        "id": "WgNL3QHUXyYT",
        "outputId": "2292536c-9a96-441f-85b1-13704edfb216"
      },
      "execution_count": 4,
      "outputs": [
        {
          "output_type": "stream",
          "name": "stdout",
          "text": [
            "tensor([[13., 13., 13., 13.],\n",
            "        [13., 13., 13., 13.],\n",
            "        [13., 13., 13., 13.]])\n",
            "tensor([[12., 22., 30., 36.],\n",
            "        [40., 42., 42., 40.],\n",
            "        [36., 30., 22., 12.]])\n",
            "tensor([[ 0.0833,  0.1818,  0.3000,  0.4444],\n",
            "        [ 0.6250,  0.8571,  1.1667,  1.6000],\n",
            "        [ 2.2500,  3.3333,  5.5000, 12.0000]])\n",
            "tensor([[1., 2., 3., 4.],\n",
            "        [5., 6., 1., 3.],\n",
            "        [1., 1., 1., 0.]])\n"
          ]
        }
      ]
    },
    {
      "cell_type": "code",
      "source": [
        "# Маленькие задачи для разминки\n",
        "a = torch.ones([5,4])\n",
        "b = torch.Tensor([[1,2,3,4],\n",
        "                  [5,6,7,8],\n",
        "                  [9,10,11,12],\n",
        "                  [13,14,15,16],\n",
        "                  [17,18,19,20]])\n",
        "print(a % b)\n",
        "print(b[0] + a[2])"
      ],
      "metadata": {
        "colab": {
          "base_uri": "https://localhost:8080/"
        },
        "id": "dfNHaGIZX-cr",
        "outputId": "e5a475bd-f8e7-4abf-dcf2-f91b26521812"
      },
      "execution_count": 5,
      "outputs": [
        {
          "output_type": "stream",
          "name": "stdout",
          "text": [
            "tensor([[0., 1., 1., 1.],\n",
            "        [1., 1., 1., 1.],\n",
            "        [1., 1., 1., 1.],\n",
            "        [1., 1., 1., 1.],\n",
            "        [1., 1., 1., 1.]])\n",
            "tensor([2., 3., 4., 5.])\n"
          ]
        }
      ]
    },
    {
      "cell_type": "code",
      "source": [
        "# Некоторые дополнительные математические функции\n",
        "print(torch.exp(x))\n",
        "print(torch.sin(x))\n",
        "print(torch.log(x))"
      ],
      "metadata": {
        "colab": {
          "base_uri": "https://localhost:8080/"
        },
        "id": "yR69e1w3X8l7",
        "outputId": "4f870a67-5095-4e11-cd1a-37ff4fede87c"
      },
      "execution_count": 6,
      "outputs": [
        {
          "output_type": "stream",
          "name": "stdout",
          "text": [
            "tensor([[2.7183e+00, 7.3891e+00, 2.0086e+01, 5.4598e+01],\n",
            "        [1.4841e+02, 4.0343e+02, 1.0966e+03, 2.9810e+03],\n",
            "        [8.1031e+03, 2.2026e+04, 5.9874e+04, 1.6275e+05]])\n",
            "tensor([[ 0.8415,  0.9093,  0.1411, -0.7568],\n",
            "        [-0.9589, -0.2794,  0.6570,  0.9894],\n",
            "        [ 0.4121, -0.5440, -1.0000, -0.5366]])\n",
            "tensor([[0.0000, 0.6931, 1.0986, 1.3863],\n",
            "        [1.6094, 1.7918, 1.9459, 2.0794],\n",
            "        [2.1972, 2.3026, 2.3979, 2.4849]])\n"
          ]
        }
      ]
    },
    {
      "cell_type": "code",
      "source": [
        "# Тензор-маска, вывод элементов тензора через маску\n",
        "mask = x > 3\n",
        "print(mask)\n",
        "print(x[mask])"
      ],
      "metadata": {
        "colab": {
          "base_uri": "https://localhost:8080/"
        },
        "id": "THPsc_qiaR8z",
        "outputId": "d1ea8024-4602-4765-c5c9-4acd60852201"
      },
      "execution_count": 9,
      "outputs": [
        {
          "output_type": "stream",
          "name": "stdout",
          "text": [
            "tensor([[False, False, False,  True],\n",
            "        [ True,  True,  True,  True],\n",
            "        [ True,  True,  True,  True]])\n",
            "tensor([ 4.,  5.,  6.,  7.,  8.,  9., 10., 11., 12.])\n"
          ]
        }
      ]
    },
    {
      "cell_type": "code",
      "source": [
        "# Реализуйте при помощи pyTorch функцию, которая возвращает сумму (x.sum()) элементов тензора X,\n",
        "# строго превышающих значение limit, которое является входным значением алгоритма.\n",
        "In = torch.tensor([[1, 2, 3], [4, 5, 6], [7, 8, 9]])\n",
        "limit = 5\n",
        "LimitMask = In > limit\n",
        "torch.sum(In[LimitMask])"
      ],
      "metadata": {
        "colab": {
          "base_uri": "https://localhost:8080/"
        },
        "id": "FP9ZiXQhbJMI",
        "outputId": "52df7f5a-6546-497d-df76-c79f672dcdd8"
      },
      "execution_count": 10,
      "outputs": [
        {
          "output_type": "execute_result",
          "data": {
            "text/plain": [
              "tensor(30)"
            ]
          },
          "metadata": {},
          "execution_count": 10
        }
      ]
    },
    {
      "cell_type": "code",
      "source": [
        "# Копирование по ссылке\n",
        "y = x\n",
        "y[0, 0] = 999\n",
        "print(x, '\\n', y)"
      ],
      "metadata": {
        "colab": {
          "base_uri": "https://localhost:8080/"
        },
        "id": "GyFItMcqcPLe",
        "outputId": "e28375f5-8c47-400a-f89b-b8e25fe983ec"
      },
      "execution_count": 11,
      "outputs": [
        {
          "output_type": "stream",
          "name": "stdout",
          "text": [
            "tensor([[999.,   2.,   3.,   4.],\n",
            "        [  5.,   6.,   7.,   8.],\n",
            "        [  9.,  10.,  11.,  12.]]) \n",
            " tensor([[999.,   2.,   3.,   4.],\n",
            "        [  5.,   6.,   7.,   8.],\n",
            "        [  9.,  10.,  11.,  12.]])\n"
          ]
        }
      ]
    },
    {
      "cell_type": "code",
      "source": [
        "# Полное копирование в памяти\n",
        "x[0, 0] = 1\n",
        "y = x.clone()\n",
        "y[0, 0] = 999\n",
        "print(x, '\\n', y)"
      ],
      "metadata": {
        "colab": {
          "base_uri": "https://localhost:8080/"
        },
        "id": "RSRBB-s6djeH",
        "outputId": "8b8fd550-9f94-4970-f416-58a995880549"
      },
      "execution_count": 12,
      "outputs": [
        {
          "output_type": "stream",
          "name": "stdout",
          "text": [
            "tensor([[ 1.,  2.,  3.,  4.],\n",
            "        [ 5.,  6.,  7.,  8.],\n",
            "        [ 9., 10., 11., 12.]]) \n",
            " tensor([[999.,   2.,   3.,   4.],\n",
            "        [  5.,   6.,   7.,   8.],\n",
            "        [  9.,  10.,  11.,  12.]])\n"
          ]
        }
      ]
    },
    {
      "cell_type": "code",
      "source": [
        "# Тип данных, хранящихся в тензорах, преобразование этого типа\n",
        "print(x.dtype)\n",
        "x = x.double()\n",
        "print(x)\n",
        "x = x.int()\n",
        "print(x)\n",
        "x = x.float()\n",
        "print(x)"
      ],
      "metadata": {
        "colab": {
          "base_uri": "https://localhost:8080/"
        },
        "id": "u9h3umGodzRJ",
        "outputId": "892f3fb4-b167-4be2-ed72-ab266f024a22"
      },
      "execution_count": 13,
      "outputs": [
        {
          "output_type": "stream",
          "name": "stdout",
          "text": [
            "torch.float32\n",
            "tensor([[ 1.,  2.,  3.,  4.],\n",
            "        [ 5.,  6.,  7.,  8.],\n",
            "        [ 9., 10., 11., 12.]], dtype=torch.float64)\n",
            "tensor([[ 1,  2,  3,  4],\n",
            "        [ 5,  6,  7,  8],\n",
            "        [ 9, 10, 11, 12]], dtype=torch.int32)\n",
            "tensor([[ 1.,  2.,  3.,  4.],\n",
            "        [ 5.,  6.,  7.,  8.],\n",
            "        [ 9., 10., 11., 12.]])\n"
          ]
        }
      ]
    },
    {
      "cell_type": "code",
      "source": [
        "# Взаимодействие тензоров PyTorch с массивами NumPy\n",
        "import numpy as np\n",
        "x = np.array([[1, 2, 3, 4],\n",
        "              [4, 3, 2, 1]])\n",
        "print(x, '\\n')\n",
        "x = torch.from_numpy(x)\n",
        "print(x, '\\n')\n",
        "x = x.numpy()\n",
        "print(x)"
      ],
      "metadata": {
        "colab": {
          "base_uri": "https://localhost:8080/"
        },
        "id": "7dqEGKu8e65W",
        "outputId": "9f631fc2-450f-4f43-985d-64cdb7ea543d"
      },
      "execution_count": 14,
      "outputs": [
        {
          "output_type": "stream",
          "name": "stdout",
          "text": [
            "[[1 2 3 4]\n",
            " [4 3 2 1]] \n",
            "\n",
            "tensor([[1, 2, 3, 4],\n",
            "        [4, 3, 2, 1]]) \n",
            "\n",
            "[[1 2 3 4]\n",
            " [4 3 2 1]]\n"
          ]
        }
      ]
    },
    {
      "cell_type": "code",
      "source": [
        "# Рандомный тензор\n",
        "x = torch.rand([2000,3000])\n",
        "print(x, '\\n')\n",
        "\n",
        "# Проверка, доступно ли устройство CUDA (видеокарта)\n",
        "print(torch.cuda.is_available())"
      ],
      "metadata": {
        "colab": {
          "base_uri": "https://localhost:8080/"
        },
        "id": "vpdElaasfhgP",
        "outputId": "dfe4fbf2-d319-4256-81cc-13f6865f8b2a"
      },
      "execution_count": 15,
      "outputs": [
        {
          "output_type": "stream",
          "name": "stdout",
          "text": [
            "tensor([[0.4007, 0.2221, 0.4523,  ..., 0.0713, 0.2542, 0.8790],\n",
            "        [0.5167, 0.5634, 0.2620,  ..., 0.9533, 0.1309, 0.0222],\n",
            "        [0.3142, 0.2351, 0.6852,  ..., 0.2088, 0.4387, 0.2917],\n",
            "        ...,\n",
            "        [0.2592, 0.7810, 0.6453,  ..., 0.6850, 0.9671, 0.2938],\n",
            "        [0.9881, 0.6599, 0.2464,  ..., 0.6632, 0.6142, 0.2708],\n",
            "        [0.0464, 0.9981, 0.9294,  ..., 0.0777, 0.9405, 0.5788]]) \n",
            "\n",
            "True\n"
          ]
        }
      ]
    },
    {
      "cell_type": "code",
      "source": [
        "# Выбор в качестве устройства выполнения первую видеокарту\n",
        "torch.device('cuda:0')"
      ],
      "metadata": {
        "colab": {
          "base_uri": "https://localhost:8080/"
        },
        "id": "L3LWrpSWgYCP",
        "outputId": "b88ca293-7772-453a-f5e2-e26ea52fa988"
      },
      "execution_count": 16,
      "outputs": [
        {
          "output_type": "execute_result",
          "data": {
            "text/plain": [
              "device(type='cuda', index=0)"
            ]
          },
          "metadata": {},
          "execution_count": 16
        }
      ]
    },
    {
      "cell_type": "code",
      "source": [
        "# Выбор в качестве устройства выполнения процессор\n",
        "torch.device('cpu')"
      ],
      "metadata": {
        "colab": {
          "base_uri": "https://localhost:8080/"
        },
        "id": "j0PTirgTgcco",
        "outputId": "a0888d69-7622-48f5-e368-9ba03da5ad66"
      },
      "execution_count": 17,
      "outputs": [
        {
          "output_type": "execute_result",
          "data": {
            "text/plain": [
              "device(type='cpu')"
            ]
          },
          "metadata": {},
          "execution_count": 17
        }
      ]
    },
    {
      "cell_type": "code",
      "source": [
        "# Универсальный код, выбирающий доступное устройство выполнения\n",
        "device = torch.device('cuda:0' if torch.cuda.is_available() else 'cpu')\n",
        "print(device)"
      ],
      "metadata": {
        "colab": {
          "base_uri": "https://localhost:8080/"
        },
        "id": "HvZRftiEghpZ",
        "outputId": "6c3feb24-2098-43e3-f25f-32882ba50388"
      },
      "execution_count": 18,
      "outputs": [
        {
          "output_type": "stream",
          "name": "stdout",
          "text": [
            "cuda:0\n"
          ]
        }
      ]
    },
    {
      "cell_type": "code",
      "source": [
        "# Копируем тензор в память CUDA устройства\n",
        "x_cuda = x.to(device)\n",
        "print(x_cuda, '\\n')\n",
        "# Замер времени выполнения на CPU\n",
        "%time y = (x - x + x * 10.0) ** 2\n",
        "# Замер времени выполнения на GPU\n",
        "%time y_cuda = (x_cuda - x_cuda + x_cuda * 10.0) ** 2"
      ],
      "metadata": {
        "colab": {
          "base_uri": "https://localhost:8080/"
        },
        "id": "93DKkfL_hRfD",
        "outputId": "10cd9297-da66-4543-880f-ff69750b0849"
      },
      "execution_count": 19,
      "outputs": [
        {
          "output_type": "stream",
          "name": "stdout",
          "text": [
            "tensor([[0.4007, 0.2221, 0.4523,  ..., 0.0713, 0.2542, 0.8790],\n",
            "        [0.5167, 0.5634, 0.2620,  ..., 0.9533, 0.1309, 0.0222],\n",
            "        [0.3142, 0.2351, 0.6852,  ..., 0.2088, 0.4387, 0.2917],\n",
            "        ...,\n",
            "        [0.2592, 0.7810, 0.6453,  ..., 0.6850, 0.9671, 0.2938],\n",
            "        [0.9881, 0.6599, 0.2464,  ..., 0.6632, 0.6142, 0.2708],\n",
            "        [0.0464, 0.9981, 0.9294,  ..., 0.0777, 0.9405, 0.5788]],\n",
            "       device='cuda:0') \n",
            "\n",
            "CPU times: user 20.5 ms, sys: 28.4 ms, total: 48.9 ms\n",
            "Wall time: 47.4 ms\n",
            "CPU times: user 487 µs, sys: 1.86 ms, total: 2.34 ms\n",
            "Wall time: 3.44 ms\n"
          ]
        }
      ]
    }
  ]
}