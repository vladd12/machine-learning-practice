{
 "cells": [
  {
   "cell_type": "code",
   "execution_count": 2,
   "metadata": {
    "colab": {},
    "colab_type": "code",
    "id": "Sagp88nnDSB1"
   },
   "outputs": [],
   "source": [
    "#Нейросеть, находящая алгоритм нахождения перевода градусов Цельсия в градусы Фаренгейта\n",
    "\n",
    "from __future__ import absolute_import, division, print_function, unicode_literals\n",
    "import tensorflow as tf\n",
    "\n",
    "import numpy as np"
   ]
  },
  {
   "cell_type": "code",
   "execution_count": 3,
   "metadata": {
    "colab": {
     "base_uri": "https://localhost:8080/",
     "height": 136
    },
    "colab_type": "code",
    "id": "TlNDu6H3GW0P",
    "outputId": "fdf6e18c-709d-4a23-fb10-4913582e58df"
   },
   "outputs": [
    {
     "name": "stdout",
     "output_type": "stream",
     "text": [
      "-40.0 градусов Цельсия = -40.0 градусов Фаренгейта\n",
      "-10.0 градусов Цельсия = 14.0 градусов Фаренгейта\n",
      "0.0 градусов Цельсия = 32.0 градусов Фаренгейта\n",
      "8.0 градусов Цельсия = 46.0 градусов Фаренгейта\n",
      "15.0 градусов Цельсия = 59.0 градусов Фаренгейта\n",
      "22.0 градусов Цельсия = 72.0 градусов Фаренгейта\n",
      "38.0 градусов Цельсия = 100.0 градусов Фаренгейта\n"
     ]
    }
   ],
   "source": [
    "celsius_q    = np.array([-40, -10, 0, 8, 15, 22, 38], dtype=float)\n",
    "fahrenheit_a = np.array([-40, 14, 32, 46, 59, 72, 100], dtype=float)\n",
    "\n",
    "for i,c in enumerate(celsius_q):\n",
    "  print(\"{} градусов Цельсия = {} градусов Фаренгейта\".format(c, fahrenheit_a[i]))"
   ]
  },
  {
   "cell_type": "code",
   "execution_count": 4,
   "metadata": {
    "colab": {},
    "colab_type": "code",
    "id": "Bak2T-hhK2Rm"
   },
   "outputs": [],
   "source": [
    "# Сеть является полносвязной (Dense-сетью), состоящей из одного слоя l0 и одного нейрона\n",
    "l0 = tf.keras.layers.Dense(units=1, input_shape=[1])\n",
    "# input_shape=[1] - размерность входного параметра - единичное значение. Матрица размером 1×1 с единственным значением.\n",
    "# Так как это первый (и единственный) слой, то и размерность входных данных соответствует размерности всей модели.\n",
    "# units=1 - количество нейронов в слое. Количество нейронов определяет количество внутренних переменных слоя будет использовано для обучения\n",
    "# при поиске решения поставленной задачи. Так как это последний слой, то его размерность равна размерности результата - выходного значения модели -\n",
    "# единственного числа с плавающей запятой представляющего собой градусы Фаренгейта.\n",
    "# (В многослойной сети размеры и форма слоя input_shape должны соответствовать размерам и формам следующего слоя)."
   ]
  },
  {
   "cell_type": "code",
   "execution_count": 5,
   "metadata": {
    "colab": {},
    "colab_type": "code",
    "id": "Q9G685FtNn6U"
   },
   "outputs": [],
   "source": [
    "# Преобразование слоя в модель\n",
    "model = tf.keras.Sequential([l0])\n",
    "# Sequential-модель принимает в качестве аргументов перечень слоёв в том порядке в котором их необходимо применять -\n",
    "# от входного значения до выходного значения. Примечание: слои можно определить прямо в функции модели"
   ]
  },
  {
   "cell_type": "code",
   "execution_count": 6,
   "metadata": {
    "colab": {},
    "colab_type": "code",
    "id": "0ZbUBtpbPiSj"
   },
   "outputs": [],
   "source": [
    "# Компиляция модели перед тренировкой (обязательный шаг)\n",
    "model.compile(loss='mean_squared_error', optimizer=tf.keras.optimizers.Adam(0.1))\n",
    "# При компиляции для тренировки необходимы:\n",
    "# функция потерь - способ измерения, насколько далеко предсказываемое значение от желаемого выходного значения (измеримая разница называется «потерей»).\n",
    "# функция оптимизации - способ корректировки внутренних переменных для уменьшения потерь.\n",
    "# mean_squared_error - среднеквадратичная ошибка\n",
    "# Adam(0.1) - функция оптимизации, где 0.1 - коэффициент скорости обучения (learning rate). Чем он меньше, тем выше точность но ниже скорость тренировки."
   ]
  },
  {
   "cell_type": "code",
   "execution_count": 7,
   "metadata": {
    "colab": {
     "base_uri": "https://localhost:8080/",
     "height": 34
    },
    "colab_type": "code",
    "id": "5HnI8v3OQjIA",
    "outputId": "36c4e911-9754-4b99-a9b7-1de0cd493c4c"
   },
   "outputs": [
    {
     "name": "stdout",
     "output_type": "stream",
     "text": [
      "Завершили тренировку модели\n"
     ]
    }
   ],
   "source": [
    "# Сама тренировка\n",
    "# Метод fit возвращает объект, который содержит информацию об изменении потерь с каждой последующей итерацией.\n",
    "history = model.fit(celsius_q, fahrenheit_a, epochs=500, verbose=False)\n",
    "# где celsius_q и fahrenheit_a - входные и выходные данные, epochs - количество шагов данного обучающего цикла, verbose - контролирует уровень логгирования\n",
    "print(\"Завершили тренировку модели\")"
   ]
  },
  {
   "cell_type": "code",
   "execution_count": 8,
   "metadata": {
    "colab": {
     "base_uri": "https://localhost:8080/",
     "height": 296
    },
    "colab_type": "code",
    "id": "ewnPiSqqSKq1",
    "outputId": "14495c35-ecab-41c7-f8f8-c3b3f8e25e84"
   },
   "outputs": [
    {
     "data": {
      "text/plain": [
       "[<matplotlib.lines.Line2D at 0x7f32f8d48a58>]"
      ]
     },
     "execution_count": 8,
     "metadata": {
      "tags": []
     },
     "output_type": "execute_result"
    },
    {
     "data": {
      "image/png": "[encoded data removed]",
      "text/plain": [
       "<Figure size 432x288 with 1 Axes>"
      ]
     },
     "metadata": {
      "needs_background": "light",
      "tags": []
     },
     "output_type": "display_data"
    }
   ],
   "source": [
    "# Вывод статистики тренировки с помощью matplotlib\n",
    "import matplotlib.pyplot as plt\n",
    "plt.xlabel('Epoch')\n",
    "plt.ylabel('Loss')\n",
    "plt.plot(history.history['loss'])"
   ]
  },
  {
   "cell_type": "code",
   "execution_count": 9,
   "metadata": {
    "colab": {
     "base_uri": "https://localhost:8080/",
     "height": 34
    },
    "colab_type": "code",
    "id": "UrkieY0HS-b6",
    "outputId": "d132b969-1dc7-4217-e535-91d51f09fe3e"
   },
   "outputs": [
    {
     "name": "stdout",
     "output_type": "stream",
     "text": [
      "[[211.32448]]\n"
     ]
    }
   ],
   "source": [
    "# Использования натренированной модели для предсказания\n",
    "print(model.predict([100.0]))\n",
    "# Модель была обучена на 3500 примерах (7 пар значений, 500 обучающих итераций)"
   ]
  },
  {
   "cell_type": "code",
   "execution_count": 10,
   "metadata": {
    "colab": {
     "base_uri": "https://localhost:8080/",
     "height": 34
    },
    "colab_type": "code",
    "id": "NEw_afFATnnj",
    "outputId": "4d6ac8fa-1cc2-44e3-b4e4-594be6051e4f"
   },
   "outputs": [
    {
     "name": "stdout",
     "output_type": "stream",
     "text": [
      "Это значения переменных слоя: [array([[1.8224486]], dtype=float32), array([29.079618], dtype=float32)]\n"
     ]
    }
   ],
   "source": [
    "# Отображение внутренних переменных Dense-слоя (весов слоя)\n",
    "print(\"Это значения переменных слоя: {}\".format(l0.get_weights()))\n",
    "# Нейрон с единственным входом и выходом содержит в себе простую математику y = mx + b (как уравнение прямой),\n",
    "# которая представляет собой не что иное, как нашу с вами формулу преобразования градусов Цельсия в градусы Фаренгейта, f = 1.8c + 32."
   ]
  },
  {
   "cell_type": "code",
   "execution_count": 11,
   "metadata": {
    "colab": {},
    "colab_type": "code",
    "id": "uM2_Qy6SUecv"
   },
   "outputs": [],
   "source": [
    "# Увеличение количества слоёв и нейронов\n",
    "l0 = tf.keras.layers.Dense(units=4, input_shape=[1])\n",
    "l1 = tf.keras.layers.Dense(units=4)\n",
    "l2 = tf.keras.layers.Dense(units=1)\n",
    "model = tf.keras.Sequential([l0, l1, l2])\n",
    "model.compile(loss='mean_squared_error', optimizer=tf.keras.optimizers.Adam(0.1))\n",
    "history = model.fit(celsius_q, fahrenheit_a, epochs=500, verbose=False)"
   ]
  },
  {
   "cell_type": "code",
   "execution_count": 12,
   "metadata": {
    "colab": {
     "base_uri": "https://localhost:8080/",
     "height": 296
    },
    "colab_type": "code",
    "id": "6_jaWbHgWitY",
    "outputId": "26c275ae-67b2-4940-d456-600dd799dee0",
    "scrolled": true
   },
   "outputs": [
    {
     "data": {
      "text/plain": [
       "[<matplotlib.lines.Line2D at 0x7f32f7ef4438>]"
      ]
     },
     "execution_count": 12,
     "metadata": {
      "tags": []
     },
     "output_type": "execute_result"
    },
    {
     "data": {
      "image/png": "[encoded data removed]",
      "text/plain": [
       "<Figure size 432x288 with 1 Axes>"
      ]
     },
     "metadata": {
      "needs_background": "light",
      "tags": []
     },
     "output_type": "display_data"
    }
   ],
   "source": [
    "plt.xlabel('Epoch')\n",
    "plt.ylabel('Loss')\n",
    "plt.plot(history.history['loss'])"
   ]
  },
  {
   "cell_type": "code",
   "execution_count": 13,
   "metadata": {
    "colab": {
     "base_uri": "https://localhost:8080/",
     "height": 255
    },
    "colab_type": "code",
    "id": "yqn63RI8Wt8l",
    "outputId": "4d8c1a51-8c51-4e60-fb05-dfdad8734828"
   },
   "outputs": [
    {
     "name": "stdout",
     "output_type": "stream",
     "text": [
      "Закончили обучение модели\n",
      "[[211.74742]]\n",
      "Модель предсказала, что 100 градусов Цельсия соответствуют [[211.74742]] градусам Фаренгейта\n",
      "Значения внутренних переменных слоя l0: [array([[ 0.11500116, -0.57780796,  0.14595369,  0.63472956]],\n",
      "      dtype=float32), array([-1.4538978, -2.9796107, -1.7658737,  4.455222 ], dtype=float32)]\n",
      "Значения внутренних переменных слоя l1: [array([[-0.26556835,  0.63085055,  0.25907347, -0.34418482],\n",
      "       [-0.138186  , -0.11037156,  0.69805676,  0.39995247],\n",
      "       [-0.7182139 ,  0.2589498 ,  0.39604074, -0.41223264],\n",
      "       [ 0.64191955, -0.591117  , -1.4790844 ,  0.5309515 ]],\n",
      "      dtype=float32), array([ 3.145305 , -2.9281003, -4.276482 ,  2.6172216], dtype=float32)]\n",
      "Значения внутренних переменных слоя l2: [array([[ 0.67459524],\n",
      "       [-0.57915485],\n",
      "       [-1.1483525 ],\n",
      "       [ 0.551912  ]], dtype=float32), array([3.8084555], dtype=float32)]\n"
     ]
    }
   ],
   "source": [
    "print(\"Закончили обучение модели\")\n",
    "print(model.predict([100.0]))\n",
    "print(\"Модель предсказала, что 100 градусов Цельсия соответствуют {} градусам Фаренгейта\".format(model.predict([100.0]))) \n",
    "print(\"Значения внутренних переменных слоя l0: {}\".format(l0.get_weights()))\n",
    "print(\"Значения внутренних переменных слоя l1: {}\".format(l1.get_weights()))\n",
    "print(\"Значения внутренних переменных слоя l2: {}\".format(l2.get_weights()))"
   ]
  }
 ],
 "metadata": {
  "colab": {
   "collapsed_sections": [],
   "name": "Untitled0.ipynb",
   "provenance": []
  },
  "kernelspec": {
   "display_name": "Python 3",
   "language": "python",
   "name": "python3"
  },
  "language_info": {
   "codemirror_mode": {
    "name": "ipython",
    "version": 3
   },
   "file_extension": ".py",
   "mimetype": "text/x-python",
   "name": "python",
   "nbconvert_exporter": "python",
   "pygments_lexer": "ipython3",
   "version": "3.8.3"
  }
 },
 "nbformat": 4,
 "nbformat_minor": 1
}
